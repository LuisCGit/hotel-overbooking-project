{
 "cells": [
  {
   "cell_type": "code",
   "execution_count": 53,
   "id": "d145f8ca",
   "metadata": {},
   "outputs": [],
   "source": [
    "import pandas as pd\n",
    "import numpy as np\n",
    "from datetime import datetime, timedelta"
   ]
  },
  {
   "cell_type": "markdown",
   "id": "ee8a401f",
   "metadata": {},
   "source": [
    "# Extract Data from time period "
   ]
  },
  {
   "cell_type": "code",
   "execution_count": 32,
   "id": "fa48eff4",
   "metadata": {},
   "outputs": [],
   "source": [
    "raw_data = pd.read_csv('hotel_bookings.csv')"
   ]
  },
  {
   "cell_type": "code",
   "execution_count": 52,
   "id": "d864e420",
   "metadata": {},
   "outputs": [],
   "source": [
    "def clean_data(raw_data):\n",
    "    #--> Map the name of the months with their corresponding numbers\n",
    "    def map_months(x):\n",
    "        if x == 'January':\n",
    "            x = 1\n",
    "        elif x == 'February':\n",
    "            x = 2\n",
    "        elif x == 'March':\n",
    "            x = 3\n",
    "        elif x == 'April':\n",
    "            x = 4\n",
    "        elif x == 'May':\n",
    "            x = 5\n",
    "        elif x == 'June':\n",
    "            x = 6\n",
    "        elif x == 'July':\n",
    "            x = 7\n",
    "        elif x == 'August':\n",
    "            x = 8\n",
    "        elif x == 'September':\n",
    "            x = 9\n",
    "        elif x == 'October':\n",
    "            x = 10\n",
    "        elif x == 'November':\n",
    "            x = 11\n",
    "        elif x == 'December':\n",
    "            x = 12\n",
    "        return x\n",
    "\n",
    "    # Use the above mapping to create a new feature\n",
    "    raw_data['arrival_date_month_number'] = raw_data['arrival_date_month'].apply(lambda x : map_months(x))\n",
    "    raw_data['arrival_date'] = raw_data['arrival_date_day_of_month'].astype('str') + '/' + raw_data['arrival_date_month_number'].astype('str') + '/'+ raw_data['arrival_date_year'].astype('str')\n",
    "    # Convert into datetime variable\n",
    "    raw_data['arrival_date'] = pd.to_datetime(raw_data['arrival_date'])\n",
    "    #compute number of days each stay is \n",
    "    raw_data['length_stay_days'] = raw_data['stays_in_week_nights'] + raw_data['stays_in_weekend_nights']\n",
    "    #compute number occupants\n",
    "    raw_data['occupants'] = raw_data['adults'] + raw_data['children']\n",
    "    #get rid of samples with length_stay == 0 or adr == 0 \n",
    "    raw_data = raw_data[raw_data['length_stay_days']>=1]\n",
    "    raw_data = raw_data[raw_data['adr'] > 0]\n",
    "    #get rid of a few samples where country is na \n",
    "    raw_data = raw_data[~raw_data['country'].isna()]\n",
    "\n",
    "    return raw_data"
   ]
  },
  {
   "cell_type": "code",
   "execution_count": 34,
   "id": "321c85ee",
   "metadata": {},
   "outputs": [],
   "source": [
    "cleaned_data = clean_data(raw_data)"
   ]
  },
  {
   "cell_type": "code",
   "execution_count": 76,
   "id": "6878c51e",
   "metadata": {},
   "outputs": [
    {
     "data": {
      "text/plain": [
       "Index(['hotel', 'is_canceled', 'lead_time', 'arrival_date_year',\n",
       "       'arrival_date_month', 'arrival_date_week_number',\n",
       "       'arrival_date_day_of_month', 'stays_in_weekend_nights',\n",
       "       'stays_in_week_nights', 'adults', 'children', 'babies', 'meal',\n",
       "       'country', 'market_segment', 'distribution_channel',\n",
       "       'is_repeated_guest', 'previous_cancellations',\n",
       "       'previous_bookings_not_canceled', 'reserved_room_type',\n",
       "       'assigned_room_type', 'booking_changes', 'deposit_type', 'agent',\n",
       "       'company', 'days_in_waiting_list', 'customer_type', 'adr',\n",
       "       'required_car_parking_spaces', 'total_of_special_requests',\n",
       "       'reservation_status', 'reservation_status_date',\n",
       "       'arrival_date_month_number', 'arrival_date', 'length_stay_days',\n",
       "       'occupants'],\n",
       "      dtype='object')"
      ]
     },
     "execution_count": 76,
     "metadata": {},
     "output_type": "execute_result"
    }
   ],
   "source": [
    "cleaned_data.columns"
   ]
  },
  {
   "cell_type": "code",
   "execution_count": null,
   "id": "18a6f5e6",
   "metadata": {},
   "outputs": [],
   "source": [
    "\"\"\"\n",
    "data cleaning notes: \n",
    "\n",
    "-remove bookings with length_stay_days == 0  (only 715 samples)\n",
    "-remove bookings with adr == (1959 samples)\n",
    "-remove bookings with na in the following: country (only 488 samples)\n",
    "\"\"\""
   ]
  },
  {
   "cell_type": "code",
   "execution_count": 51,
   "id": "95256d22",
   "metadata": {},
   "outputs": [],
   "source": [
    "def generate_prescriptive_params(raw_data,start_day,time_window,selected_features):\n",
    "    \"\"\"\n",
    "    Function to extract all the parameters we need for the prescriptive model, which will be run in Julia.\n",
    "    \n",
    "    @param raw_data: dataframe with raw bookings data. Must have the column 'arrival_date' which is a datetime variable\n",
    "    @param start_day: first day of window we consider for accepting/rejecting bookings.\n",
    "                      format should be string of the form \"<year>-<month>-<day>\"\n",
    "    @param time_window: Number of days we add onto start_day to create the time window we consider. We get data on \n",
    "                        every booking with an arrival date which falls into our window.\n",
    "    @param selected_features: list of features to pull for each booking. Should match whatever predictive model\n",
    "                              we trained \n",
    "                    \n",
    "    @return p: vector length n. The (total) price of each booking \n",
    "    @return s: vector length n (integers in {0,...,T }). The starting day of each booking\n",
    "    @return e: vector length n (integers in {0,...,T}). The ending day of each booking\n",
    "    @return t: vector length n. This gives the number of people that each booking is for\n",
    "    @return X: n x p matrix containing selected features of the booking\n",
    "    @return y: whether the booking was canceled or not\n",
    "    \"\"\"    \n",
    "    start_day = datetime.strptime(start_day,'%Y-%m-%d')\n",
    "    #get bookings in specified time window\n",
    "    window_data = raw_data[(raw_data['arrival_date'] >=  start_day) &\n",
    "                           (raw_data['arrival_date'] <= start_day + timedelta(days=time_window))]\n",
    "    window_data = window_data.sort_values(by='arrival_date',ascending=True)\n",
    "    print(\"window_data shape\", window_data.shape)\n",
    "    #compute arrival date as an int ()\n",
    "    timedeltas_s = window_data['arrival_date'] - start_day\n",
    "    print(\"time_deltas_s len: \", len(timedeltas_s))\n",
    "    s = pd.Series([int(x.days) for x in timedeltas_s])\n",
    "    print(\"s shape: \", s.shape)\n",
    "    #compute end date as an int\n",
    "    print(\"len window_data[length_stay_days] shape\",(window_data['length_stay_days']).shape)\n",
    "    e = np.array(s) + np.array(window_data['length_stay_days'])\n",
    "    print(\"e len: \", len(e))\n",
    "    p = window_data['adr']*window_data['length_stay_days']\n",
    "    t = window_data['occupants']\n",
    "    X = pd.get_dummies(window_data[selected_features])\n",
    "    y = window_data['is_canceled']\n",
    "    return (window_data, np.array(s), np.array(e), \n",
    "           np.array(p), np.array(t), X, y)\n",
    "    "
   ]
  },
  {
   "cell_type": "markdown",
   "id": "5d49e458",
   "metadata": {},
   "source": [
    "# Fit kNN model"
   ]
  },
  {
   "cell_type": "code",
   "execution_count": 54,
   "id": "7767ee3e",
   "metadata": {},
   "outputs": [],
   "source": [
    "from sklearn.neighbors import NearestNeighbors\n",
    "from sklearn.preprocessing import StandardScaler, normalize"
   ]
  },
  {
   "cell_type": "code",
   "execution_count": 48,
   "id": "2554b29c",
   "metadata": {},
   "outputs": [],
   "source": [
    "def get_training_data(raw_data,start_date,end_date,selected_features):\n",
    "    \"\"\"\n",
    "    Function to generate training data for a predictive model (OCT,kNN)\n",
    "    which will later be used for prescriptions\n",
    "    \n",
    "    @param raw_data: dataframa holding raw booking data\n",
    "    @param start_date: format \"<year>-<month>-<day>\"\n",
    "    @param end_date: format \"<year>-<month>-<day>\"\n",
    "    @param selected_features: list of features model should be fitted on \n",
    "    \"\"\"\n",
    "    start_date = datetime.strptime(start_date,'%Y-%m-%d')\n",
    "    end_date = datetime.strptime(end_date,'%Y-%m-%d')\n",
    "    #get bookings in specified time window\n",
    "    window_data = raw_data[(raw_data['arrival_date'] >=  start_date) &\n",
    "                           (raw_data['arrival_date'] <= end_date)]\n",
    "    window_data = window_data.sort_values(by='arrival_date',ascending=True)\n",
    "    X = window_data[selected_features]\n",
    "    X = pd.get_dummies(X)\n",
    "    y = np.array(window_data['is_canceled'])\n",
    "    return X,y"
   ]
  },
  {
   "cell_type": "code",
   "execution_count": 81,
   "id": "1808023a",
   "metadata": {},
   "outputs": [],
   "source": [
    "def get_prescriptive_params_knn(data,start_date_knn,end_date_knn,\n",
    "                                start_date_test,time_window,\n",
    "                                selected_features):\n",
    "    window_data, s, e, p, t, X_new, y_new = generate_prescriptive_params(data,start_date_test,time_window,selected_features)\n",
    "\n",
    "    X,y = get_training_data(raw_data,start_date_knn,end_date_knn,selected_features)\n",
    "    nbrs = NearestNeighbors(n_neighbors=5).fit(X)\n",
    "    distance, indices = nbrs.kneighbors(X_new)\n",
    "    y_neighbors = y[indices]\n",
    "    \n",
    "    return window_data, s, e, p, t, X_new, np.array(y_new), y_neighbors\n"
   ]
  },
  {
   "cell_type": "code",
   "execution_count": 85,
   "id": "34ea8d3c",
   "metadata": {},
   "outputs": [
    {
     "name": "stdout",
     "output_type": "stream",
     "text": [
      "window_data shape (2930, 36)\n",
      "time_deltas_s len:  2930\n",
      "s shape:  (2930,)\n",
      "len window_data[length_stay_days] shape (2930,)\n",
      "e len:  2930\n"
     ]
    }
   ],
   "source": [
    "start_date_knn = \"2017-01-01\"\n",
    "end_date_knn = \"2017-07-30\"\n",
    "start_date_test = \"2017-08-01\"\n",
    "time_window = 21\n",
    "selected_features = ['lead_time','length_stay_days']\n",
    "\n",
    "window_data, s, e, p, t, X_new, y_new, y_neighbors =  get_prescriptive_params_knn(cleaned_data,start_date_knn,end_date_knn,\n",
    "                                                                                    start_date_test,time_window,\n",
    "                                                                                    selected_features)"
   ]
  },
  {
   "cell_type": "code",
   "execution_count": 86,
   "id": "4e2b335d",
   "metadata": {},
   "outputs": [],
   "source": [
    "np.savetxt('e.csv',e,delimiter=',')\n",
    "np.savetxt('s.csv',s,delimiter=',')\n",
    "np.savetxt('p.csv',p,delimiter=',')\n",
    "np.savetxt('t.csv',t,delimiter=',')\n",
    "X_new.to_csv('X_new.csv',header=True)\n",
    "np.savetxt('y_new.csv',y_new,delimiter=',')\n",
    "np.savetxt('y_neighbors.csv',y_neighbors,delimiter=',')"
   ]
  },
  {
   "cell_type": "code",
   "execution_count": null,
   "id": "9a9f3c4f",
   "metadata": {},
   "outputs": [],
   "source": []
  }
 ],
 "metadata": {
  "kernelspec": {
   "display_name": "Python 3",
   "language": "python",
   "name": "python3"
  },
  "language_info": {
   "codemirror_mode": {
    "name": "ipython",
    "version": 3
   },
   "file_extension": ".py",
   "mimetype": "text/x-python",
   "name": "python",
   "nbconvert_exporter": "python",
   "pygments_lexer": "ipython3",
   "version": "3.7.6"
  }
 },
 "nbformat": 4,
 "nbformat_minor": 5
}
