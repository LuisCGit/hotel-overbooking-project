{
 "cells": [
  {
   "cell_type": "code",
   "execution_count": 13,
   "id": "d145f8ca",
   "metadata": {},
   "outputs": [],
   "source": [
    "import pandas as pd\n",
    "import numpy as np\n",
    "from datetime import datetime, timedelta\n",
    "from random import randrange"
   ]
  },
  {
   "cell_type": "markdown",
   "id": "ee8a401f",
   "metadata": {},
   "source": [
    "# Extract Data from time period "
   ]
  },
  {
   "cell_type": "code",
   "execution_count": 4,
   "id": "fa48eff4",
   "metadata": {},
   "outputs": [],
   "source": [
    "raw_data = pd.read_csv('hotel_bookings.csv')"
   ]
  },
  {
   "cell_type": "code",
   "execution_count": 5,
   "id": "d864e420",
   "metadata": {},
   "outputs": [],
   "source": [
    "def clean_data(raw_data):\n",
    "    #--> Map the name of the months with their corresponding numbers\n",
    "    def map_months(x):\n",
    "        if x == 'January':\n",
    "            x = 1\n",
    "        elif x == 'February':\n",
    "            x = 2\n",
    "        elif x == 'March':\n",
    "            x = 3\n",
    "        elif x == 'April':\n",
    "            x = 4\n",
    "        elif x == 'May':\n",
    "            x = 5\n",
    "        elif x == 'June':\n",
    "            x = 6\n",
    "        elif x == 'July':\n",
    "            x = 7\n",
    "        elif x == 'August':\n",
    "            x = 8\n",
    "        elif x == 'September':\n",
    "            x = 9\n",
    "        elif x == 'October':\n",
    "            x = 10\n",
    "        elif x == 'November':\n",
    "            x = 11\n",
    "        elif x == 'December':\n",
    "            x = 12\n",
    "        return x\n",
    "\n",
    "    # Use the above mapping to create a new feature\n",
    "    raw_data['arrival_date_month_number'] = raw_data['arrival_date_month'].apply(lambda x : map_months(x))\n",
    "    raw_data['arrival_date'] = raw_data['arrival_date_day_of_month'].astype('str') + '/' + raw_data['arrival_date_month_number'].astype('str') + '/'+ raw_data['arrival_date_year'].astype('str')\n",
    "    # Convert into datetime variable\n",
    "    raw_data['arrival_date'] = pd.to_datetime(raw_data['arrival_date'])\n",
    "    #compute number of days each stay is \n",
    "    raw_data['length_stay_days'] = raw_data['stays_in_week_nights'] + raw_data['stays_in_weekend_nights']\n",
    "    #compute number occupants\n",
    "    raw_data['occupants'] = raw_data['adults'] + raw_data['children']\n",
    "    #get rid of samples with length_stay == 0 or adr == 0 \n",
    "    raw_data = raw_data[raw_data['length_stay_days']>=1]\n",
    "    raw_data = raw_data[raw_data['adr'] > 0]\n",
    "    #get rid of a few samples where country is na \n",
    "    raw_data = raw_data[~raw_data['country'].isna()]\n",
    "    #get rid of samples with 0 occupants \n",
    "    raw_data = raw_data[raw_data['occupants'] > 0]\n",
    "    return raw_data"
   ]
  },
  {
   "cell_type": "code",
   "execution_count": 6,
   "id": "321c85ee",
   "metadata": {},
   "outputs": [],
   "source": [
    "cleaned_data = clean_data(raw_data)"
   ]
  },
  {
   "cell_type": "code",
   "execution_count": 7,
   "id": "e24b8b60",
   "metadata": {},
   "outputs": [
    {
     "data": {
      "text/plain": [
       "Timestamp('2017-12-08 00:00:00')"
      ]
     },
     "execution_count": 7,
     "metadata": {},
     "output_type": "execute_result"
    }
   ],
   "source": [
    "max(cleaned_data['arrival_date'])"
   ]
  },
  {
   "cell_type": "code",
   "execution_count": 6,
   "id": "18a6f5e6",
   "metadata": {},
   "outputs": [
    {
     "data": {
      "text/plain": [
       "'\\ndata cleaning notes: \\n\\n-remove bookings with length_stay_days == 0  (only 715 samples)\\n-remove bookings with adr == (1959 samples)\\n-remove bookings with na in the following: country (only 488 samples)\\n'"
      ]
     },
     "execution_count": 6,
     "metadata": {},
     "output_type": "execute_result"
    }
   ],
   "source": [
    "\"\"\"\n",
    "data cleaning notes: \n",
    "\n",
    "-remove bookings with length_stay_days == 0  (only 715 samples)\n",
    "-remove bookings with adr == (1959 samples)\n",
    "-remove bookings with na in the following: country (only 488 samples)\n",
    "\"\"\""
   ]
  },
  {
   "cell_type": "code",
   "execution_count": 50,
   "id": "95256d22",
   "metadata": {},
   "outputs": [],
   "source": [
    "def generate_prescriptive_params(raw_data,start_day,time_window,selected_features):\n",
    "    \"\"\"\n",
    "    Function to extract all the parameters we need for the prescriptive model, which will be run in Julia.\n",
    "    \n",
    "    @param raw_data: dataframe with raw bookings data. Must have the column 'arrival_date' which is a datetime variable\n",
    "    @param start_day: first day of window we consider for accepting/rejecting bookings.\n",
    "                      format should be string of the form \"<year>-<month>-<day>\"\n",
    "    @param time_window: Number of days we add onto start_day to create the time window we consider. We get data on \n",
    "                        every booking with an arrival date which falls into our window.\n",
    "    @param selected_features: list of features to pull for each booking. Should match whatever predictive model\n",
    "                              we trained \n",
    "                    \n",
    "    @return p: vector length n. The (total) price of each booking \n",
    "    @return s: vector length n (integers in {0,...,T }). The starting day of each booking\n",
    "    @return e: vector length n (integers in {0,...,T}). The ending day of each booking\n",
    "    @return t: vector length n. This gives the number of people that each booking is for\n",
    "    @return X: n x p matrix containing selected features of the booking\n",
    "    @return y: whether the booking was canceled or not\n",
    "    \"\"\"    \n",
    "    start_day = datetime.strptime(start_day,'%Y-%m-%d')\n",
    "    #get bookings in specified time window\n",
    "    window_data = raw_data[(raw_data['arrival_date'] >=  start_day) &\n",
    "                           (raw_data['arrival_date'] <= start_day + timedelta(days=time_window))]\n",
    "    window_data = window_data.sort_values(by='arrival_date',ascending=True)\n",
    "    print(\"window_data shape\", window_data.shape)\n",
    "    #compute arrival date as an int ()\n",
    "    timedeltas_s = window_data['arrival_date'] - start_day\n",
    "    print(\"time_deltas_s len: \", len(timedeltas_s))\n",
    "    s = pd.Series([int(x.days) for x in timedeltas_s])\n",
    "    print(\"s shape: \", s.shape)\n",
    "    #compute end date as an int\n",
    "    print(\"len window_data[length_stay_days] shape\",(window_data['length_stay_days']).shape)\n",
    "    e = np.array(s) + np.array(window_data['length_stay_days'])\n",
    "    print(\"e len: \", len(e))\n",
    "    p = window_data['adr']*window_data['length_stay_days']\n",
    "    t = window_data['occupants']\n",
    "    X = pd.get_dummies(window_data[selected_features])\n",
    "    y = window_data['is_canceled']\n",
    "    return (window_data, np.array(s), np.array(e), \n",
    "           np.array(p), np.array(t), X, y)\n",
    "    "
   ]
  },
  {
   "cell_type": "markdown",
   "id": "5d49e458",
   "metadata": {},
   "source": [
    "# Fit kNN model"
   ]
  },
  {
   "cell_type": "code",
   "execution_count": 51,
   "id": "7767ee3e",
   "metadata": {},
   "outputs": [],
   "source": [
    "from sklearn.neighbors import NearestNeighbors, KNeighborsClassifier\n",
    "from sklearn.preprocessing import StandardScaler, normalize\n",
    "from sklearn.metrics import roc_auc_score\n",
    "from sklearn.model_selection import train_test_split"
   ]
  },
  {
   "cell_type": "code",
   "execution_count": 52,
   "id": "2554b29c",
   "metadata": {},
   "outputs": [],
   "source": [
    "def get_training_data(raw_data,start_date,end_date,selected_features):\n",
    "    \"\"\"\n",
    "    Function to generate training data for a predictive model (OCT,kNN)\n",
    "    which will later be used for prescriptions\n",
    "    \n",
    "    @param raw_data: dataframa holding raw booking data\n",
    "    @param start_date: format \"<year>-<month>-<day>\"\n",
    "    @param end_date: format \"<year>-<month>-<day>\"\n",
    "    @param selected_features: list of features model should be fitted on \n",
    "    \"\"\"\n",
    "    start_date = datetime.strptime(start_date,'%Y-%m-%d')\n",
    "    end_date = datetime.strptime(end_date,'%Y-%m-%d')\n",
    "    #get bookings in specified time window\n",
    "    window_data = raw_data[(raw_data['arrival_date'] >=  start_date) &\n",
    "                           (raw_data['arrival_date'] <= end_date)]\n",
    "    window_data = window_data.sort_values(by='arrival_date',ascending=True)\n",
    "    X = window_data[selected_features]\n",
    "    X = pd.get_dummies(X)\n",
    "    y = np.array(window_data['is_canceled'])\n",
    "    return X,y"
   ]
  },
  {
   "cell_type": "code",
   "execution_count": 53,
   "id": "1808023a",
   "metadata": {},
   "outputs": [],
   "source": [
    "def get_prescriptive_params_knn(data,start_date_knn,end_date_knn,\n",
    "                                start_date_test,time_window,\n",
    "                                selected_features,k):\n",
    "    window_data, s, e, p, t, X_new, y_new = generate_prescriptive_params(data,start_date_test,time_window,selected_features)\n",
    "\n",
    "    X,y = get_training_data(raw_data,start_date_knn,end_date_knn,selected_features)\n",
    "    X_train, X_test, y_train, y_test = train_test_split(X, y, test_size=0.25, random_state=42, stratify=y)\n",
    "    sclr = StandardScaler()\n",
    "    sclr.fit(X_train)\n",
    "    X_train_std, X_test_std = sclr.transform(X_train), sclr.transform(X_test)\n",
    "    nbrs = NearestNeighbors(n_neighbors=k).fit(X_train_std)\n",
    "    distance, indices = nbrs.kneighbors(X_new)\n",
    "    y_neighbors = y[indices]\n",
    "    \n",
    "    clf = KNeighborsClassifier(n_neighbors=k)\n",
    "    clf.fit(X_train_std,y_train)\n",
    "    y_pred = clf.predict_proba(X_test_std)\n",
    "    auc = roc_auc_score(y_test, y_pred[:, 1])\n",
    "    print(\"kNN test auc: \", auc)\n",
    "    \n",
    "    return window_data, s, e, p, t, X_new, np.array(y_new), y_neighbors\n"
   ]
  },
  {
   "cell_type": "code",
   "execution_count": 52,
   "id": "34ea8d3c",
   "metadata": {},
   "outputs": [
    {
     "name": "stdout",
     "output_type": "stream",
     "text": [
      "window_data shape (2724, 36)\n",
      "time_deltas_s len:  2724\n",
      "s shape:  (2724,)\n",
      "len window_data[length_stay_days] shape (2724,)\n",
      "e len:  2724\n"
     ]
    },
    {
     "name": "stderr",
     "output_type": "stream",
     "text": [
      "/Users/luiscosta/miniconda3/envs/myenv/lib/python3.7/site-packages/sklearn/base.py:439: UserWarning: X has feature names, but NearestNeighbors was fitted without feature names\n",
      "  f\"X has feature names, but {self.__class__.__name__} was fitted without\"\n"
     ]
    },
    {
     "name": "stdout",
     "output_type": "stream",
     "text": [
      "kNN test auc:  0.8652269938344447\n"
     ]
    }
   ],
   "source": [
    "start_date_knn = \"2017-01-01\"\n",
    "end_date_knn = \"2017-05-30\"\n",
    "start_date_test = \"2017-07-01\"\n",
    "time_window = 21\n",
    "selected_features = ['lead_time','length_stay_days','adults','children','babies','meal',\n",
    "                     'market_segment','distribution_channel','is_repeated_guest','previous_cancellations',\n",
    "                     'reserved_room_type','booking_changes','deposit_type',\n",
    "                     'customer_type','adr','required_car_parking_spaces','total_of_special_requests',\n",
    "                     'occupants']\n",
    "\n",
    "window_data, s, e, p, t, X_new, y_new, y_neighbors =  get_prescriptive_params_knn(cleaned_data,start_date_knn,end_date_knn,\n",
    "                                                                                    start_date_test,time_window,\n",
    "                                                                                    selected_features,\n",
    "                                                                                 k=15)"
   ]
  },
  {
   "cell_type": "code",
   "execution_count": 12,
   "id": "6de3e453",
   "metadata": {},
   "outputs": [
    {
     "data": {
      "text/html": [
       "<div>\n",
       "<style scoped>\n",
       "    .dataframe tbody tr th:only-of-type {\n",
       "        vertical-align: middle;\n",
       "    }\n",
       "\n",
       "    .dataframe tbody tr th {\n",
       "        vertical-align: top;\n",
       "    }\n",
       "\n",
       "    .dataframe thead th {\n",
       "        text-align: right;\n",
       "    }\n",
       "</style>\n",
       "<table border=\"1\" class=\"dataframe\">\n",
       "  <thead>\n",
       "    <tr style=\"text-align: right;\">\n",
       "      <th></th>\n",
       "      <th>hotel</th>\n",
       "      <th>is_canceled</th>\n",
       "      <th>lead_time</th>\n",
       "      <th>arrival_date_year</th>\n",
       "      <th>arrival_date_month</th>\n",
       "      <th>arrival_date_week_number</th>\n",
       "      <th>arrival_date_day_of_month</th>\n",
       "      <th>stays_in_weekend_nights</th>\n",
       "      <th>stays_in_week_nights</th>\n",
       "      <th>adults</th>\n",
       "      <th>...</th>\n",
       "      <th>customer_type</th>\n",
       "      <th>adr</th>\n",
       "      <th>required_car_parking_spaces</th>\n",
       "      <th>total_of_special_requests</th>\n",
       "      <th>reservation_status</th>\n",
       "      <th>reservation_status_date</th>\n",
       "      <th>arrival_date_month_number</th>\n",
       "      <th>arrival_date</th>\n",
       "      <th>length_stay_days</th>\n",
       "      <th>occupants</th>\n",
       "    </tr>\n",
       "  </thead>\n",
       "  <tbody>\n",
       "  </tbody>\n",
       "</table>\n",
       "<p>0 rows × 36 columns</p>\n",
       "</div>"
      ],
      "text/plain": [
       "Empty DataFrame\n",
       "Columns: [hotel, is_canceled, lead_time, arrival_date_year, arrival_date_month, arrival_date_week_number, arrival_date_day_of_month, stays_in_weekend_nights, stays_in_week_nights, adults, children, babies, meal, country, market_segment, distribution_channel, is_repeated_guest, previous_cancellations, previous_bookings_not_canceled, reserved_room_type, assigned_room_type, booking_changes, deposit_type, agent, company, days_in_waiting_list, customer_type, adr, required_car_parking_spaces, total_of_special_requests, reservation_status, reservation_status_date, arrival_date_month_number, arrival_date, length_stay_days, occupants]\n",
       "Index: []\n",
       "\n",
       "[0 rows x 36 columns]"
      ]
     },
     "execution_count": 12,
     "metadata": {},
     "output_type": "execute_result"
    }
   ],
   "source": [
    "window_data[window_data['arrival_date'] == '2017-07-10']"
   ]
  },
  {
   "cell_type": "code",
   "execution_count": 13,
   "id": "34423153",
   "metadata": {},
   "outputs": [
    {
     "data": {
      "text/html": [
       "<div>\n",
       "<style scoped>\n",
       "    .dataframe tbody tr th:only-of-type {\n",
       "        vertical-align: middle;\n",
       "    }\n",
       "\n",
       "    .dataframe tbody tr th {\n",
       "        vertical-align: top;\n",
       "    }\n",
       "\n",
       "    .dataframe thead th {\n",
       "        text-align: right;\n",
       "    }\n",
       "</style>\n",
       "<table border=\"1\" class=\"dataframe\">\n",
       "  <thead>\n",
       "    <tr style=\"text-align: right;\">\n",
       "      <th></th>\n",
       "      <th>hotel</th>\n",
       "      <th>is_canceled</th>\n",
       "      <th>lead_time</th>\n",
       "      <th>arrival_date_year</th>\n",
       "      <th>arrival_date_month</th>\n",
       "      <th>arrival_date_week_number</th>\n",
       "      <th>arrival_date_day_of_month</th>\n",
       "      <th>stays_in_weekend_nights</th>\n",
       "      <th>stays_in_week_nights</th>\n",
       "      <th>adults</th>\n",
       "      <th>...</th>\n",
       "      <th>customer_type</th>\n",
       "      <th>adr</th>\n",
       "      <th>required_car_parking_spaces</th>\n",
       "      <th>total_of_special_requests</th>\n",
       "      <th>reservation_status</th>\n",
       "      <th>reservation_status_date</th>\n",
       "      <th>arrival_date_month_number</th>\n",
       "      <th>arrival_date</th>\n",
       "      <th>length_stay_days</th>\n",
       "      <th>occupants</th>\n",
       "    </tr>\n",
       "  </thead>\n",
       "  <tbody>\n",
       "  </tbody>\n",
       "</table>\n",
       "<p>0 rows × 36 columns</p>\n",
       "</div>"
      ],
      "text/plain": [
       "Empty DataFrame\n",
       "Columns: [hotel, is_canceled, lead_time, arrival_date_year, arrival_date_month, arrival_date_week_number, arrival_date_day_of_month, stays_in_weekend_nights, stays_in_week_nights, adults, children, babies, meal, country, market_segment, distribution_channel, is_repeated_guest, previous_cancellations, previous_bookings_not_canceled, reserved_room_type, assigned_room_type, booking_changes, deposit_type, agent, company, days_in_waiting_list, customer_type, adr, required_car_parking_spaces, total_of_special_requests, reservation_status, reservation_status_date, arrival_date_month_number, arrival_date, length_stay_days, occupants]\n",
       "Index: []\n",
       "\n",
       "[0 rows x 36 columns]"
      ]
     },
     "execution_count": 13,
     "metadata": {},
     "output_type": "execute_result"
    }
   ],
   "source": [
    "cleaned_data[cleaned_data['arrival_date'] == '2017-07-10']"
   ]
  },
  {
   "cell_type": "code",
   "execution_count": 55,
   "id": "4e2b335d",
   "metadata": {},
   "outputs": [],
   "source": [
    "np.savetxt('e.csv',e,delimiter=',')\n",
    "np.savetxt('s.csv',s,delimiter=',')\n",
    "np.savetxt('p.csv',p,delimiter=',')\n",
    "np.savetxt('t.csv',t,delimiter=',')\n",
    "X_new.to_csv('X_new.csv',header=True)\n",
    "np.savetxt('y_new.csv',y_new,delimiter=',')\n",
    "np.savetxt('y_neighbors.csv',y_neighbors,delimiter=',')"
   ]
  },
  {
   "cell_type": "markdown",
   "id": "dfb4f014",
   "metadata": {},
   "source": [
    "# Get params of consecutive time windows for $\\alpha$ testing"
   ]
  },
  {
   "cell_type": "code",
   "execution_count": 50,
   "id": "e6c5bdec",
   "metadata": {},
   "outputs": [],
   "source": [
    "def get_prescriptive_params_knn_consecutive(data,start_date_knn,end_date_knn,\n",
    "                                            start_date_test,\n",
    "                                            time_window1, time_window2,\n",
    "                                            selected_features,k):\n",
    "    window_data1, s1, e1, p1, t1, X_new1, y_new1 = generate_prescriptive_params(data,start_date_test,time_window1,selected_features)\n",
    "    \n",
    "    start_date_period2 = (datetime.strptime(start_date_test,'%Y-%m-%d') + timedelta(days=time_window1+1)).strftime(\"%Y-%m-%d\")\n",
    "    print(\"start_date_period2: \",start_date_period2)\n",
    "    window_data2, s2, e2, p2, t2, X_new2, y_new2 = generate_prescriptive_params(data,start_date_period2,time_window2,selected_features)\n",
    "\n",
    "    X_new1, X_new2 = X_new1.align(X_new2, join='inner', axis=1)\n",
    "    \n",
    "    X,y = get_training_data(raw_data,start_date_knn,end_date_knn,selected_features)\n",
    "    X, X_new1 = X.align(X_new1, join='inner', axis=1)\n",
    "    X_train, X_test, y_train, y_test = train_test_split(X, y, test_size=0.25, random_state=42, stratify=y)\n",
    "    sclr = StandardScaler()\n",
    "    sclr.fit(X_train)\n",
    "    X_train_std, X_test_std = sclr.transform(X_train), sclr.transform(X_test)\n",
    "    nbrs = NearestNeighbors(n_neighbors=k).fit(X_train_std)\n",
    "    \n",
    "    distance1, indices1 = nbrs.kneighbors(X_new1)\n",
    "    y_neighbors1 = y[indices1]\n",
    "    \n",
    "    distance2, indices2 = nbrs.kneighbors(X_new2)\n",
    "    y_neighbors2 = y[indices2]\n",
    "    \n",
    "    clf = KNeighborsClassifier(n_neighbors=k)\n",
    "    clf.fit(X_train_std,y_train)\n",
    "    y_pred = clf.predict_proba(X_test_std)\n",
    "    auc = roc_auc_score(y_test, y_pred[:, 1])\n",
    "    print(\"kNN test auc: \", auc)\n",
    "    \n",
    "    return (window_data1, s1, e1, p1, t1, X_new1, np.array(y_new1), y_neighbors1,\n",
    "            window_data2, s2, e2, p2, t2, X_new2, np.array(y_new2), y_neighbors2)\n",
    "            \n",
    "\n"
   ]
  },
  {
   "cell_type": "code",
   "execution_count": 55,
   "id": "8a25bb66",
   "metadata": {},
   "outputs": [],
   "source": [
    "start_date_knn = \"2016-01-01\"\n",
    "end_date_knn = \"2017-04-30\"\n",
    "start_date_test = \"2017-05-01\"\n",
    "time_window1 = 20\n",
    "time_window2 = 20\n",
    "selected_features = ['lead_time','length_stay_days','adults','children','babies','meal',\n",
    "                     'market_segment','distribution_channel','is_repeated_guest','previous_cancellations',\n",
    "                     'reserved_room_type','booking_changes','deposit_type',\n",
    "                     'customer_type','adr','required_car_parking_spaces','total_of_special_requests',\n",
    "                     'occupants']\n",
    "k = 15"
   ]
  },
  {
   "cell_type": "code",
   "execution_count": 56,
   "id": "b2296022",
   "metadata": {},
   "outputs": [
    {
     "name": "stdout",
     "output_type": "stream",
     "text": [
      "window_data shape (3164, 36)\n",
      "time_deltas_s len:  3164\n",
      "s shape:  (3164,)\n",
      "len window_data[length_stay_days] shape (3164,)\n",
      "e len:  3164\n",
      "start_date_period2:  2017-05-22\n",
      "window_data shape (3303, 36)\n",
      "time_deltas_s len:  3303\n",
      "s shape:  (3303,)\n",
      "len window_data[length_stay_days] shape (3303,)\n",
      "e len:  3303\n",
      "kNN test auc:  0.8806863012255388\n"
     ]
    }
   ],
   "source": [
    "(window_data1, s1, e1, p1, t1, X_new1, y_new1, y_neighbors1,\n",
    "            window_data2, s2, e2, p2, t2, X_new2, y_new2, y_neighbors2) = get_prescriptive_params_knn_consecutive(cleaned_data,start_date_knn,end_date_knn,\n",
    "                                                                                                            start_date_test,\n",
    "                                                                                                            time_window1, time_window2,\n",
    "                                                                                                            selected_features,k)"
   ]
  },
  {
   "cell_type": "code",
   "execution_count": 57,
   "id": "df8ffd78",
   "metadata": {},
   "outputs": [],
   "source": [
    "np.savetxt('e1.csv',e1,delimiter=',')\n",
    "np.savetxt('s1.csv',s1,delimiter=',')\n",
    "np.savetxt('p1.csv',p1,delimiter=',')\n",
    "np.savetxt('t1.csv',t1,delimiter=',')\n",
    "X_new1.to_csv('X_new1.csv',header=True)\n",
    "np.savetxt('y_new1.csv',y_new1,delimiter=',')\n",
    "np.savetxt('y_neighbors1.csv',y_neighbors1,delimiter=',')\n",
    "\n",
    "np.savetxt('e2.csv',e2,delimiter=',')\n",
    "np.savetxt('s2.csv',s2,delimiter=',')\n",
    "np.savetxt('p2.csv',p2,delimiter=',')\n",
    "np.savetxt('t2.csv',t2,delimiter=',')\n",
    "X_new2.to_csv('X_new2.csv',header=True)\n",
    "np.savetxt('y_new2.csv',y_new2,delimiter=',')\n",
    "np.savetxt('y_neighbors2.csv',y_neighbors2,delimiter=',')"
   ]
  },
  {
   "cell_type": "markdown",
   "id": "cd2a5cdd",
   "metadata": {},
   "source": [
    "# Sampling several days"
   ]
  },
  {
   "cell_type": "code",
   "execution_count": null,
   "id": "7fd99c3b",
   "metadata": {},
   "outputs": [],
   "source": [
    "\"\"\"\n",
    "1. Set N = number of days to sample \n",
    "2. Randomly sample 10 arrival dates between 2017-04-30 and 2017-12-08\n",
    "\"\"\""
   ]
  },
  {
   "cell_type": "code",
   "execution_count": 54,
   "id": "dda964a6",
   "metadata": {},
   "outputs": [],
   "source": [
    "def random_date(start, end):\n",
    "    \"\"\"\n",
    "    This function will return a random datetime between two string dates\n",
    "    \"\"\"\n",
    "    \n",
    "    start = datetime.strptime(start,'%Y-%m-%d')\n",
    "    end = datetime.strptime(end,'%Y-%m-%d')\n",
    "    delta = end - start\n",
    "    int_delta = delta.days \n",
    "    random_day = randrange(int_delta)\n",
    "    return start + timedelta(days=random_day)"
   ]
  },
  {
   "cell_type": "code",
   "execution_count": 59,
   "id": "2f121b90",
   "metadata": {},
   "outputs": [],
   "source": [
    "def sample_random_days(start,end,time_window=21,N=100):\n",
    "    start_date_knn = \"2016-01-01\"\n",
    "    end_date_knn = \"2017-04-30\"\n",
    "    selected_features = ['lead_time','length_stay_days','adults','children','babies','meal',\n",
    "                     'market_segment','distribution_channel','is_repeated_guest','previous_cancellations',\n",
    "                     'reserved_room_type','booking_changes','deposit_type',\n",
    "                     'customer_type','adr','required_car_parking_spaces','total_of_special_requests',\n",
    "                     'occupants']\n",
    "    selected_days = []\n",
    "    for i in range(N):\n",
    "        rand_date = random_date(start, end)\n",
    "        selected_days.append(rand_date)\n",
    "        rand_date = rand_date.strftime(\"%Y-%m-%d\")\n",
    "        \n",
    "        window_data, s, e, p, t, X_new, y_new, y_neighbors =  get_prescriptive_params_knn(cleaned_data,start_date_knn,end_date_knn,\n",
    "                                                                                    rand_date,time_window,\n",
    "                                                                                    selected_features,\n",
    "                                                                                 k=15)\n",
    "        np.savetxt('100days/e' + str(i+1) + '.csv',e,delimiter=',')\n",
    "        np.savetxt('100days/s' + str(i+1) + '.csv',s,delimiter=',')\n",
    "        np.savetxt('100days/p' + str(i+1) + '.csv',p,delimiter=',')\n",
    "        np.savetxt('100days/t' + str(i+1) + '.csv',t,delimiter=',')\n",
    "        X_new.to_csv('100days/X_new' + str(i+1) + '.csv',header=True)\n",
    "        np.savetxt('100days/y_new' + str(i+1) + '.csv',y_new,delimiter=',')\n",
    "        np.savetxt('100days/y_neighbors' + str(i+1) + '.csv',y_neighbors,delimiter=',')\n",
    "    with open('100days/aa_selected_days.pickle','wb') as f:\n",
    "        pickle.dump(selected_days,f)\n",
    "    return selected_days\n",
    "    "
   ]
  },
  {
   "cell_type": "code",
   "execution_count": 56,
   "id": "7c948594",
   "metadata": {},
   "outputs": [
    {
     "data": {
      "text/plain": [
       "datetime.datetime(2017, 6, 21, 0, 0)"
      ]
     },
     "execution_count": 56,
     "metadata": {},
     "output_type": "execute_result"
    }
   ],
   "source": [
    "random_date(\"2017-04-30\", \"2017-11-15\")"
   ]
  },
  {
   "cell_type": "code",
   "execution_count": 60,
   "id": "de3b57ae",
   "metadata": {},
   "outputs": [
    {
     "name": "stdout",
     "output_type": "stream",
     "text": [
      "window_data shape (2567, 36)\n",
      "time_deltas_s len:  2567\n",
      "s shape:  (2567,)\n",
      "len window_data[length_stay_days] shape (2567,)\n",
      "e len:  2567\n"
     ]
    },
    {
     "name": "stderr",
     "output_type": "stream",
     "text": [
      "/Users/luiscosta/miniconda3/envs/myenv/lib/python3.7/site-packages/sklearn/base.py:439: UserWarning: X has feature names, but NearestNeighbors was fitted without feature names\n",
      "  f\"X has feature names, but {self.__class__.__name__} was fitted without\"\n"
     ]
    },
    {
     "ename": "ValueError",
     "evalue": "X has 42 features, but NearestNeighbors is expecting 44 features as input.",
     "output_type": "error",
     "traceback": [
      "\u001b[0;31m---------------------------------------------------------------------------\u001b[0m",
      "\u001b[0;31mValueError\u001b[0m                                Traceback (most recent call last)",
      "\u001b[0;32m<ipython-input-60-68f057ef7334>\u001b[0m in \u001b[0;36m<module>\u001b[0;34m\u001b[0m\n\u001b[0;32m----> 1\u001b[0;31m \u001b[0mselected_days\u001b[0m \u001b[0;34m=\u001b[0m \u001b[0msample_random_days\u001b[0m\u001b[0;34m(\u001b[0m\u001b[0;34m\"2017-04-30\"\u001b[0m\u001b[0;34m,\u001b[0m\u001b[0;34m\"2017-11-15\"\u001b[0m\u001b[0;34m,\u001b[0m\u001b[0mtime_window\u001b[0m\u001b[0;34m=\u001b[0m\u001b[0;36m21\u001b[0m\u001b[0;34m,\u001b[0m\u001b[0mN\u001b[0m\u001b[0;34m=\u001b[0m\u001b[0;36m5\u001b[0m\u001b[0;34m)\u001b[0m\u001b[0;34m\u001b[0m\u001b[0;34m\u001b[0m\u001b[0m\n\u001b[0m",
      "\u001b[0;32m<ipython-input-59-b93d2de7bd69>\u001b[0m in \u001b[0;36msample_random_days\u001b[0;34m(start, end, time_window, N)\u001b[0m\n\u001b[1;32m     16\u001b[0m                                                                                     \u001b[0mrand_date\u001b[0m\u001b[0;34m,\u001b[0m\u001b[0mtime_window\u001b[0m\u001b[0;34m,\u001b[0m\u001b[0;34m\u001b[0m\u001b[0;34m\u001b[0m\u001b[0m\n\u001b[1;32m     17\u001b[0m                                                                                     \u001b[0mselected_features\u001b[0m\u001b[0;34m,\u001b[0m\u001b[0;34m\u001b[0m\u001b[0;34m\u001b[0m\u001b[0m\n\u001b[0;32m---> 18\u001b[0;31m                                                                                  k=15)\n\u001b[0m\u001b[1;32m     19\u001b[0m         \u001b[0mnp\u001b[0m\u001b[0;34m.\u001b[0m\u001b[0msavetxt\u001b[0m\u001b[0;34m(\u001b[0m\u001b[0;34m'100days/e'\u001b[0m \u001b[0;34m+\u001b[0m \u001b[0mstr\u001b[0m\u001b[0;34m(\u001b[0m\u001b[0mi\u001b[0m\u001b[0;34m+\u001b[0m\u001b[0;36m1\u001b[0m\u001b[0;34m)\u001b[0m \u001b[0;34m+\u001b[0m \u001b[0;34m'.csv'\u001b[0m\u001b[0;34m,\u001b[0m\u001b[0me\u001b[0m\u001b[0;34m,\u001b[0m\u001b[0mdelimiter\u001b[0m\u001b[0;34m=\u001b[0m\u001b[0;34m','\u001b[0m\u001b[0;34m)\u001b[0m\u001b[0;34m\u001b[0m\u001b[0;34m\u001b[0m\u001b[0m\n\u001b[1;32m     20\u001b[0m         \u001b[0mnp\u001b[0m\u001b[0;34m.\u001b[0m\u001b[0msavetxt\u001b[0m\u001b[0;34m(\u001b[0m\u001b[0;34m'100days/s'\u001b[0m \u001b[0;34m+\u001b[0m \u001b[0mstr\u001b[0m\u001b[0;34m(\u001b[0m\u001b[0mi\u001b[0m\u001b[0;34m+\u001b[0m\u001b[0;36m1\u001b[0m\u001b[0;34m)\u001b[0m \u001b[0;34m+\u001b[0m \u001b[0;34m'.csv'\u001b[0m\u001b[0;34m,\u001b[0m\u001b[0ms\u001b[0m\u001b[0;34m,\u001b[0m\u001b[0mdelimiter\u001b[0m\u001b[0;34m=\u001b[0m\u001b[0;34m','\u001b[0m\u001b[0;34m)\u001b[0m\u001b[0;34m\u001b[0m\u001b[0;34m\u001b[0m\u001b[0m\n",
      "\u001b[0;32m<ipython-input-53-3b435df4b6fa>\u001b[0m in \u001b[0;36mget_prescriptive_params_knn\u001b[0;34m(data, start_date_knn, end_date_knn, start_date_test, time_window, selected_features, k)\u001b[0m\n\u001b[1;32m     10\u001b[0m     \u001b[0mX_train_std\u001b[0m\u001b[0;34m,\u001b[0m \u001b[0mX_test_std\u001b[0m \u001b[0;34m=\u001b[0m \u001b[0msclr\u001b[0m\u001b[0;34m.\u001b[0m\u001b[0mtransform\u001b[0m\u001b[0;34m(\u001b[0m\u001b[0mX_train\u001b[0m\u001b[0;34m)\u001b[0m\u001b[0;34m,\u001b[0m \u001b[0msclr\u001b[0m\u001b[0;34m.\u001b[0m\u001b[0mtransform\u001b[0m\u001b[0;34m(\u001b[0m\u001b[0mX_test\u001b[0m\u001b[0;34m)\u001b[0m\u001b[0;34m\u001b[0m\u001b[0;34m\u001b[0m\u001b[0m\n\u001b[1;32m     11\u001b[0m     \u001b[0mnbrs\u001b[0m \u001b[0;34m=\u001b[0m \u001b[0mNearestNeighbors\u001b[0m\u001b[0;34m(\u001b[0m\u001b[0mn_neighbors\u001b[0m\u001b[0;34m=\u001b[0m\u001b[0mk\u001b[0m\u001b[0;34m)\u001b[0m\u001b[0;34m.\u001b[0m\u001b[0mfit\u001b[0m\u001b[0;34m(\u001b[0m\u001b[0mX_train_std\u001b[0m\u001b[0;34m)\u001b[0m\u001b[0;34m\u001b[0m\u001b[0;34m\u001b[0m\u001b[0m\n\u001b[0;32m---> 12\u001b[0;31m     \u001b[0mdistance\u001b[0m\u001b[0;34m,\u001b[0m \u001b[0mindices\u001b[0m \u001b[0;34m=\u001b[0m \u001b[0mnbrs\u001b[0m\u001b[0;34m.\u001b[0m\u001b[0mkneighbors\u001b[0m\u001b[0;34m(\u001b[0m\u001b[0mX_new\u001b[0m\u001b[0;34m)\u001b[0m\u001b[0;34m\u001b[0m\u001b[0;34m\u001b[0m\u001b[0m\n\u001b[0m\u001b[1;32m     13\u001b[0m     \u001b[0my_neighbors\u001b[0m \u001b[0;34m=\u001b[0m \u001b[0my\u001b[0m\u001b[0;34m[\u001b[0m\u001b[0mindices\u001b[0m\u001b[0;34m]\u001b[0m\u001b[0;34m\u001b[0m\u001b[0;34m\u001b[0m\u001b[0m\n\u001b[1;32m     14\u001b[0m \u001b[0;34m\u001b[0m\u001b[0m\n",
      "\u001b[0;32m~/miniconda3/envs/myenv/lib/python3.7/site-packages/sklearn/neighbors/_base.py\u001b[0m in \u001b[0;36mkneighbors\u001b[0;34m(self, X, n_neighbors, return_distance)\u001b[0m\n\u001b[1;32m    712\u001b[0m                 \u001b[0mX\u001b[0m \u001b[0;34m=\u001b[0m \u001b[0m_check_precomputed\u001b[0m\u001b[0;34m(\u001b[0m\u001b[0mX\u001b[0m\u001b[0;34m)\u001b[0m\u001b[0;34m\u001b[0m\u001b[0;34m\u001b[0m\u001b[0m\n\u001b[1;32m    713\u001b[0m             \u001b[0;32melse\u001b[0m\u001b[0;34m:\u001b[0m\u001b[0;34m\u001b[0m\u001b[0;34m\u001b[0m\u001b[0m\n\u001b[0;32m--> 714\u001b[0;31m                 \u001b[0mX\u001b[0m \u001b[0;34m=\u001b[0m \u001b[0mself\u001b[0m\u001b[0;34m.\u001b[0m\u001b[0m_validate_data\u001b[0m\u001b[0;34m(\u001b[0m\u001b[0mX\u001b[0m\u001b[0;34m,\u001b[0m \u001b[0maccept_sparse\u001b[0m\u001b[0;34m=\u001b[0m\u001b[0;34m\"csr\"\u001b[0m\u001b[0;34m,\u001b[0m \u001b[0mreset\u001b[0m\u001b[0;34m=\u001b[0m\u001b[0;32mFalse\u001b[0m\u001b[0;34m)\u001b[0m\u001b[0;34m\u001b[0m\u001b[0;34m\u001b[0m\u001b[0m\n\u001b[0m\u001b[1;32m    715\u001b[0m         \u001b[0;32melse\u001b[0m\u001b[0;34m:\u001b[0m\u001b[0;34m\u001b[0m\u001b[0;34m\u001b[0m\u001b[0m\n\u001b[1;32m    716\u001b[0m             \u001b[0mquery_is_train\u001b[0m \u001b[0;34m=\u001b[0m \u001b[0;32mTrue\u001b[0m\u001b[0;34m\u001b[0m\u001b[0;34m\u001b[0m\u001b[0m\n",
      "\u001b[0;32m~/miniconda3/envs/myenv/lib/python3.7/site-packages/sklearn/base.py\u001b[0m in \u001b[0;36m_validate_data\u001b[0;34m(self, X, y, reset, validate_separately, **check_params)\u001b[0m\n\u001b[1;32m    578\u001b[0m \u001b[0;34m\u001b[0m\u001b[0m\n\u001b[1;32m    579\u001b[0m         \u001b[0;32mif\u001b[0m \u001b[0;32mnot\u001b[0m \u001b[0mno_val_X\u001b[0m \u001b[0;32mand\u001b[0m \u001b[0mcheck_params\u001b[0m\u001b[0;34m.\u001b[0m\u001b[0mget\u001b[0m\u001b[0;34m(\u001b[0m\u001b[0;34m\"ensure_2d\"\u001b[0m\u001b[0;34m,\u001b[0m \u001b[0;32mTrue\u001b[0m\u001b[0;34m)\u001b[0m\u001b[0;34m:\u001b[0m\u001b[0;34m\u001b[0m\u001b[0;34m\u001b[0m\u001b[0m\n\u001b[0;32m--> 580\u001b[0;31m             \u001b[0mself\u001b[0m\u001b[0;34m.\u001b[0m\u001b[0m_check_n_features\u001b[0m\u001b[0;34m(\u001b[0m\u001b[0mX\u001b[0m\u001b[0;34m,\u001b[0m \u001b[0mreset\u001b[0m\u001b[0;34m=\u001b[0m\u001b[0mreset\u001b[0m\u001b[0;34m)\u001b[0m\u001b[0;34m\u001b[0m\u001b[0;34m\u001b[0m\u001b[0m\n\u001b[0m\u001b[1;32m    581\u001b[0m \u001b[0;34m\u001b[0m\u001b[0m\n\u001b[1;32m    582\u001b[0m         \u001b[0;32mreturn\u001b[0m \u001b[0mout\u001b[0m\u001b[0;34m\u001b[0m\u001b[0;34m\u001b[0m\u001b[0m\n",
      "\u001b[0;32m~/miniconda3/envs/myenv/lib/python3.7/site-packages/sklearn/base.py\u001b[0m in \u001b[0;36m_check_n_features\u001b[0;34m(self, X, reset)\u001b[0m\n\u001b[1;32m    394\u001b[0m         \u001b[0;32mif\u001b[0m \u001b[0mn_features\u001b[0m \u001b[0;34m!=\u001b[0m \u001b[0mself\u001b[0m\u001b[0;34m.\u001b[0m\u001b[0mn_features_in_\u001b[0m\u001b[0;34m:\u001b[0m\u001b[0;34m\u001b[0m\u001b[0;34m\u001b[0m\u001b[0m\n\u001b[1;32m    395\u001b[0m             raise ValueError(\n\u001b[0;32m--> 396\u001b[0;31m                 \u001b[0;34mf\"X has {n_features} features, but {self.__class__.__name__} \"\u001b[0m\u001b[0;34m\u001b[0m\u001b[0;34m\u001b[0m\u001b[0m\n\u001b[0m\u001b[1;32m    397\u001b[0m                 \u001b[0;34mf\"is expecting {self.n_features_in_} features as input.\"\u001b[0m\u001b[0;34m\u001b[0m\u001b[0;34m\u001b[0m\u001b[0m\n\u001b[1;32m    398\u001b[0m             )\n",
      "\u001b[0;31mValueError\u001b[0m: X has 42 features, but NearestNeighbors is expecting 44 features as input."
     ]
    }
   ],
   "source": [
    "selected_days = sample_random_days(\"2017-04-30\",\"2017-11-15\",time_window=21,N=5)"
   ]
  },
  {
   "cell_type": "code",
   "execution_count": null,
   "id": "9e181775",
   "metadata": {},
   "outputs": [],
   "source": []
  }
 ],
 "metadata": {
  "kernelspec": {
   "display_name": "Python 3",
   "language": "python",
   "name": "python3"
  },
  "language_info": {
   "codemirror_mode": {
    "name": "ipython",
    "version": 3
   },
   "file_extension": ".py",
   "mimetype": "text/x-python",
   "name": "python",
   "nbconvert_exporter": "python",
   "pygments_lexer": "ipython3",
   "version": "3.7.6"
  }
 },
 "nbformat": 4,
 "nbformat_minor": 5
}
