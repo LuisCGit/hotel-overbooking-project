{
 "cells": [
  {
   "cell_type": "code",
   "execution_count": 14,
   "id": "70ba9a09",
   "metadata": {},
   "outputs": [],
   "source": [
    "using StatsBase, Random, LinearAlgebra, DecisionTree, DataFrames, MLDataUtils, ScikitLearn, CSV, Plots, Gurobi, JuMP"
   ]
  },
  {
   "cell_type": "code",
   "execution_count": 471,
   "id": "2687c5b1",
   "metadata": {},
   "outputs": [],
   "source": [
    "s = vec(Matrix(CSV.read(\"s.csv\",DataFrame; header=0)));\n",
    "e = vec(Matrix(CSV.read(\"e.csv\",DataFrame; header=0)));\n",
    "p = vec(Matrix(CSV.read(\"p.csv\",DataFrame; header=0)));\n",
    "t = vec(Matrix(CSV.read(\"t.csv\",DataFrame; header=0)));\n",
    "t = broadcast(x -> Integer(x), t)\n",
    "y_neighbors = (Matrix(CSV.read(\"y_neighbors.csv\",DataFrame; header=0)));\n",
    "room_capacities = 80\n",
    "Q = ones(5).*room_capacities #vec([5,5,5,5,5,5]);\n",
    "M = 10^5;\n",
    "f = 50;\n",
    "q = 500;"
   ]
  },
  {
   "cell_type": "code",
   "execution_count": 472,
   "id": "4c483ba4",
   "metadata": {},
   "outputs": [],
   "source": [
    "X_new = (Matrix(CSV.read(\"X_new.csv\",DataFrame; header=0)));\n",
    "y_new = vec(Matrix(CSV.read(\"y_new.csv\",DataFrame; header=0)));\n",
    "y_new = broadcast(x -> Integer(x), y_new);\n",
    "y_hat =  scenario_generation(y_neighbors);"
   ]
  },
  {
   "cell_type": "markdown",
   "id": "3e4cbc56",
   "metadata": {},
   "source": [
    "# Scenario Generation"
   ]
  },
  {
   "cell_type": "code",
   "execution_count": 460,
   "id": "2a751aaf",
   "metadata": {},
   "outputs": [
    {
     "data": {
      "text/plain": [
       "scenario_generation (generic function with 2 methods)"
      ]
     },
     "execution_count": 460,
     "metadata": {},
     "output_type": "execute_result"
    }
   ],
   "source": [
    "function scenario_generation(y_neighbors,method=\"knn\")\n",
    "    \"\"\"\n",
    "    generate scenarios of cancelation/non-cancelation based on historic data.\n",
    "    Procedure will depend on whether the prescriptive method is knn or OCT\n",
    "    \n",
    "    @param y_neighbors: n x k matrix holding possible cancelation scenarios for each observation\n",
    "    \"\"\"\n",
    "    n,k = size(y_neighbors)\n",
    "    y_hat = zeros(n) \n",
    "    if method == \"knn\"\n",
    "        for i=1:n\n",
    "            p = sum(y_neighbors[i,:])/k\n",
    "            y_hat[i] = p  #(rand() < p) ? 1 : 0 #1 with probability p, otherwise 0\n",
    "        end\n",
    "    end\n",
    "    return y_hat\n",
    "end"
   ]
  },
  {
   "cell_type": "markdown",
   "id": "ef3713a4",
   "metadata": {},
   "source": [
    "# Baseline Approach"
   ]
  },
  {
   "cell_type": "markdown",
   "id": "444e3445",
   "metadata": {},
   "source": [
    "The baseline approach will never allow a scenario where overbooking could happen."
   ]
  },
  {
   "cell_type": "code",
   "execution_count": 473,
   "id": "b315174f",
   "metadata": {},
   "outputs": [
    {
     "data": {
      "text/plain": [
       "prescribe_bookings_baseline (generic function with 1 method)"
      ]
     },
     "execution_count": 473,
     "metadata": {},
     "output_type": "execute_result"
    }
   ],
   "source": [
    "function prescribe_bookings_baseline(Q,q,f,p,s,e,t)\n",
    "    \"\"\"\n",
    "    A function that receives n booking requests over a time period 1,...,T and returns\n",
    "    a decision on each booking (accept or reject) so as to maximize revenue.\n",
    "    \n",
    "    @param Q: vector length J. J is the number of room types we have (1 person, 2 person, etc.) Q_j is \n",
    "    the number of rooms available we have of type j \n",
    "    @param q: constant. this is the cost incurred if a customer is overbooked \n",
    "    @param f: constant. Money received if a booking is canceled \n",
    "    @param p: vector length n. The price of each booking \n",
    "    @param s: vector length n. The starting day of each booking\n",
    "    @param e: vector length n. The ending day of each booking\n",
    "    @param t: vector length n. This gives the number of people that the ith booking is for\n",
    "    @param y_neighbors: binary matrix n X K. This is the historical neighbour data,\n",
    "                        whether the person canceled or not\n",
    "    @param M: big M constraints\n",
    "    @param y_hat: estimate of cancelation probabilities \n",
    "    \"\"\"\n",
    "    J = length(Q)\n",
    "    n = length(s)\n",
    "    \n",
    "    gurobi_env=Gurobi.Env(); #to suppress some Gurobi outputs\n",
    "    model = Model(with_optimizer(Gurobi.Optimizer, gurobi_env))\n",
    "    #set_optimizer_attribute(model, \"OutputFlag\", 0)\n",
    "    #set_optimizer_attribute(model, \"MIPGap\", 0.1) #needed to ensure convergence\n",
    "\n",
    "    \n",
    "    @variable(model,z[i=1:n],Bin) #accept booking i or not\n",
    "\n",
    "    #STRATEGY: Never allow num_people_booked > capacity \n",
    "    for i=1:n\n",
    "        booked_people = 0 \n",
    "        for i2=1:n\n",
    "            if (s[i2] <= s[i]) && (e[i2] > s[i]) && (i2 !== i) && (t[i2] == t[i])\n",
    "                booked_people += 1*z[i2]\n",
    "            end\n",
    "        end            \n",
    "        @constraint(model,booked_people <= Q[t[i]])\n",
    "    end\n",
    "    \n",
    "    @objective(model,Max, sum(z[i]*p[i] for i=1:n))\n",
    "    optimize!(model)\n",
    "    return objective_value(model) , value.(z)\n",
    "end"
   ]
  },
  {
   "cell_type": "code",
   "execution_count": 474,
   "id": "a3a0b81c",
   "metadata": {},
   "outputs": [
    {
     "name": "stdout",
     "output_type": "stream",
     "text": [
      "Academic license - for non-commercial use only - expires 2022-08-18\n",
      "Gurobi Optimizer version 9.1.2 build v9.1.2rc0 (mac64)\n",
      "Thread count: 2 physical cores, 4 logical processors, using up to 4 threads\n",
      "Optimize a model with 2930 rows, 2930 columns and 757296 nonzeros\n",
      "Model fingerprint: 0x896f080b\n",
      "Variable types: 0 continuous, 2930 integer (2930 binary)\n",
      "Coefficient statistics:\n",
      "  Matrix range     [1e+00, 1e+00]\n",
      "  Objective range  [1e+01, 4e+03]\n",
      "  Bounds range     [0e+00, 0e+00]\n",
      "  RHS range        [8e+01, 8e+01]\n",
      "Found heuristic solution: objective 754997.12000\n",
      "Presolve removed 1117 rows and 1082 columns\n",
      "Presolve time: 1.01s\n",
      "Presolved: 1813 rows, 1848 columns, 666847 nonzeros\n",
      "Found heuristic solution: objective 836963.25000\n",
      "Variable types: 0 continuous, 1848 integer (1845 binary)\n",
      "\n",
      "Root relaxation: objective 9.484904e+05, 78 iterations, 0.03 seconds\n",
      "\n",
      "    Nodes    |    Current Node    |     Objective Bounds      |     Work\n",
      " Expl Unexpl |  Obj  Depth IntInf | Incumbent    BestBd   Gap | It/Node Time\n",
      "\n",
      "*    0     0               0    948490.44000 948490.440  0.00%     -    1s\n",
      "\n",
      "Explored 0 nodes (78 simplex iterations) in 1.14 seconds\n",
      "Thread count was 4 (of 4 available processors)\n",
      "\n",
      "Solution count 3: 948490 836963 754997 \n",
      "\n",
      "Optimal solution found (tolerance 1.00e-04)\n",
      "Best objective 9.484904400000e+05, best bound 9.484904400000e+05, gap 0.0000%\n",
      "\n",
      "User-callback calls 111, time in user-callback 0.00 sec\n"
     ]
    }
   ],
   "source": [
    "obj_baseline, z_baseline = prescribe_bookings_baseline(Q,q,f,p,s,e,t);"
   ]
  },
  {
   "cell_type": "code",
   "execution_count": 475,
   "id": "70f70943",
   "metadata": {},
   "outputs": [
    {
     "data": {
      "text/plain": [
       "2930"
      ]
     },
     "execution_count": 475,
     "metadata": {},
     "output_type": "execute_result"
    }
   ],
   "source": [
    "length(z_baseline)"
   ]
  },
  {
   "cell_type": "markdown",
   "id": "838b332c",
   "metadata": {},
   "source": [
    "# kNN-based prescriptions"
   ]
  },
  {
   "cell_type": "code",
   "execution_count": 476,
   "id": "20d54eee",
   "metadata": {},
   "outputs": [
    {
     "data": {
      "text/plain": [
       "prescribe_bookings_knn (generic function with 2 methods)"
      ]
     },
     "execution_count": 476,
     "metadata": {},
     "output_type": "execute_result"
    }
   ],
   "source": [
    "function prescribe_bookings_knn(Q,q,f,p,s,e,t,y_neighbors,M,y_hat)\n",
    "    \"\"\"\n",
    "    A function that receives n booking requests over a time period 1,...,T and returns\n",
    "    a decision on each booking (accept or reject) so as to maximize revenue.\n",
    "    \n",
    "    @param Q: vector length J. J is the number of room types we have (1 person, 2 person, etc.) Q_j is \n",
    "    the number of rooms available we have of type j \n",
    "    @param q: constant. this is the cost incurred if a customer is overbooked \n",
    "    @param f: constant. Money received if a booking is canceled \n",
    "    @param p: vector length n. The price of each booking \n",
    "    @param s: vector length n. The starting day of each booking\n",
    "    @param e: vector length n. The ending day of each booking\n",
    "    @param t: vector length n. This gives the number of people that the ith booking is for\n",
    "    @param y_neighbors: binary matrix n X K. This is the historical neighbour data,\n",
    "                        whether the person canceled or not\n",
    "    @param M: big M constraints\n",
    "    @param y_hat: estimate of whether people will cancel or not \n",
    "    \"\"\"\n",
    "    J = length(Q)\n",
    "    n,K = size(y_neighbors)\n",
    "    \n",
    "    gurobi_env=Gurobi.Env(); #to suppress some Gurobi outputs\n",
    "    model = Model(with_optimizer(Gurobi.Optimizer, gurobi_env))\n",
    "    #set_optimizer_attribute(model, \"OutputFlag\", 0)\n",
    "    set_optimizer_attribute(model, \"MIPGap\", 0.1) #needed to ensure convergence\n",
    "\n",
    "    \n",
    "    @variable(model,z[i=1:n],Bin) #accept booking i or not\n",
    "    @variable(model,b[i=1:n],Bin) #person i is overbooked or not\n",
    "    @variable(model,w[i=1:n,j=1:J]>=0,Int) #number rooms occupied of type j when person i arrives\n",
    "    \n",
    "    @constraint(model,[i=1:n], z[i] <= 1-b[i])\n",
    "    @constraint(model,[i=1:n,j=1:J],M*b[i]>=w[i,j]-Q[j]+1)\n",
    "\n",
    "#     @constraint(model,[i=1:n,j=1:J],w[i,j] ==  sum([z[l]*sum((1-y_neighbors[l,k]) for k=1:K) for l=1:n \n",
    "#                                                     if ((s[l] <= s[i]) && (e[l] > s[i]) && (l!=i))]   )) \n",
    "    \n",
    "    for i=1:n\n",
    "        for j=1:J\n",
    "            interval_count = 0 \n",
    "            for i2=1:n\n",
    "                if (s[i2] <= s[i]) && (e[i2] > s[i]) && (i2 !== i) && (t[i2]==t[i])\n",
    "                    interval_count += z[i2]*(1-y_hat[i2])*1\n",
    "                end\n",
    "            end            \n",
    "            @constraint(model,w[i,j] == interval_count)\n",
    "        end\n",
    "    end\n",
    "    \n",
    "    @objective(model,Max, sum(z[i]*(y_neighbors[i,k]*f + (1-y_neighbors[i,k])*p[i]) for k=1:K for i=1:n) -\n",
    "                         q*sum(b[i] for i=1:n))\n",
    "    optimize!(model)\n",
    "    return objective_value(model) , value.(z), value.(b), value.(w)\n",
    "end"
   ]
  },
  {
   "cell_type": "code",
   "execution_count": 477,
   "id": "796fb38f",
   "metadata": {},
   "outputs": [
    {
     "data": {
      "text/plain": [
       "prescribe_bookings_knn (generic function with 2 methods)"
      ]
     },
     "execution_count": 477,
     "metadata": {},
     "output_type": "execute_result"
    }
   ],
   "source": [
    "function prescribe_bookings_knn(Q,q,f,p,s,e,t,y_neighbors,y_hat)\n",
    "    \"\"\"\n",
    "    A function that receives n booking requests over a time period 1,...,T and returns\n",
    "    a decision on each booking (accept or reject) so as to maximize revenue.\n",
    "    \n",
    "    @param Q: vector length J. J is the number of room types we have (1 person, 2 person, etc.) Q_j is \n",
    "    the number of rooms available we have of type j \n",
    "    @param q: constant. this is the cost incurred if a customer is overbooked \n",
    "    @param f: constant. Money received if a booking is canceled \n",
    "    @param p: vector length n. The price of each booking \n",
    "    @param s: vector length n. The starting day of each booking\n",
    "    @param e: vector length n. The ending day of each booking\n",
    "    @param t: vector length n. This gives the number of people that the ith booking is for\n",
    "    @param y_neighbors: binary matrix n X K. This is the historical neighbour data,\n",
    "                        whether the person canceled or not\n",
    "    @param M: big M constraints\n",
    "    @param y_hat: estimate of cancelation probabilities \n",
    "    \"\"\"\n",
    "    J = length(Q)\n",
    "    n,K = size(y_neighbors)\n",
    "    \n",
    "    gurobi_env=Gurobi.Env(); #to suppress some Gurobi outputs\n",
    "    model = Model(with_optimizer(Gurobi.Optimizer, gurobi_env))\n",
    "    #set_optimizer_attribute(model, \"OutputFlag\", 0)\n",
    "    #set_optimizer_attribute(model, \"MIPGap\", 0.1) #needed to ensure convergence\n",
    "\n",
    "    \n",
    "    @variable(model,z[i=1:n],Bin) #accept booking i or not\n",
    "    #@variable(model,b[i=1:n],Bin) #person i is overbooked or not\n",
    "    #@variable(model,exp[i=1:n,j=1:J]>=0,Int) #number rooms occupied of type j when person i arrives\n",
    "    \n",
    "    #@constraint(model,[i=1:n,j=1:J],M*b[i]>=w[i,j]-Q[j]+1)\n",
    "\n",
    "    #STRATEGY: Say that the expected number of guests cannot exceed capacity\n",
    "    for i=1:n\n",
    "        expected_people = 0 \n",
    "        for i2=1:n\n",
    "            if (s[i2] <= s[i]) && (e[i2] > s[i]) && (i2 !== i) && (t[i2] == t[i])\n",
    "                expected_people += z[i2]*(1-y_hat[i2])*1\n",
    "            end\n",
    "        end            \n",
    "        @constraint(model,expected_people <= Q[t[i]])\n",
    "    end\n",
    "    \n",
    "    @objective(model,Max, sum(z[i]*(y_neighbors[i,k]*f + (1-y_neighbors[i,k])*p[i]) for k=1:K for i=1:n))\n",
    "    optimize!(model)\n",
    "    return objective_value(model) , value.(z)\n",
    "end"
   ]
  },
  {
   "cell_type": "code",
   "execution_count": 478,
   "id": "e2b7772c",
   "metadata": {},
   "outputs": [
    {
     "name": "stdout",
     "output_type": "stream",
     "text": [
      "Academic license - for non-commercial use only - expires 2022-08-18\n",
      "Gurobi Optimizer version 9.1.2 build v9.1.2rc0 (mac64)\n",
      "Thread count: 2 physical cores, 4 logical processors, using up to 4 threads\n",
      "Optimize a model with 2930 rows, 2930 columns and 722865 nonzeros\n",
      "Model fingerprint: 0x2c7a42b7\n",
      "Variable types: 0 continuous, 2930 integer (2930 binary)\n",
      "Coefficient statistics:\n",
      "  Matrix range     [2e-01, 1e+00]\n",
      "  Objective range  [1e+02, 2e+04]\n",
      "  Bounds range     [0e+00, 0e+00]\n",
      "  RHS range        [8e+01, 8e+01]\n",
      "Found heuristic solution: objective 3159706.2100\n",
      "Presolve removed 1192 rows and 1146 columns\n",
      "Presolve time: 1.32s\n",
      "Presolved: 1738 rows, 1784 columns, 170801 nonzeros\n",
      "Found heuristic solution: objective 3509854.3600\n",
      "Variable types: 0 continuous, 1784 integer (1714 binary)\n",
      "\n",
      "Root relaxation: objective 3.808640e+06, 147 iterations, 0.02 seconds\n",
      "\n",
      "    Nodes    |    Current Node    |     Objective Bounds      |     Work\n",
      " Expl Unexpl |  Obj  Depth IntInf | Incumbent    BestBd   Gap | It/Node Time\n",
      "\n",
      "     0     0 3808640.03    0   24 3509854.36 3808640.03  8.51%     -    1s\n",
      "H    0     0                    3800704.4900 3808640.03  0.21%     -    1s\n",
      "H    0     0                    3807099.0300 3808640.03  0.04%     -    1s\n",
      "     0     0 3808523.46    0   35 3807099.03 3808523.46  0.04%     -    1s\n",
      "H    0     0                    3807159.0300 3808523.46  0.04%     -    1s\n",
      "H    0     0                    3807743.1100 3808523.46  0.02%     -    1s\n",
      "     0     0 3808506.75    0   52 3807743.11 3808506.75  0.02%     -    1s\n",
      "     0     0 3808506.75    0   24 3807743.11 3808506.75  0.02%     -    2s\n",
      "     0     0 3808506.75    0   15 3807743.11 3808506.75  0.02%     -    2s\n",
      "     0     0 3808506.75    0   27 3807743.11 3808506.75  0.02%     -    2s\n",
      "     0     0 3808503.42    0   56 3807743.11 3808503.42  0.02%     -    2s\n",
      "     0     0 3808499.06    0   10 3807743.11 3808499.06  0.02%     -    2s\n",
      "     0     0 3808497.10    0   51 3807743.11 3808497.10  0.02%     -    2s\n",
      "     0     0 3808496.81    0   52 3807743.11 3808496.81  0.02%     -    2s\n",
      "     0     0 3808493.24    0   56 3807743.11 3808493.24  0.02%     -    2s\n",
      "     0     0 3808491.79    0   60 3807743.11 3808491.79  0.02%     -    2s\n",
      "     0     0 3808491.22    0   67 3807743.11 3808491.22  0.02%     -    2s\n",
      "     0     0 3808490.69    0   67 3807743.11 3808490.69  0.02%     -    2s\n",
      "H    0     0                    3807798.1100 3808490.69  0.02%     -    2s\n",
      "     0     0 3808490.69    0   67 3807798.11 3808490.69  0.02%     -    2s\n",
      "     0     0 3808490.51    0   68 3807798.11 3808490.51  0.02%     -    2s\n",
      "     0     0 3808490.51    0   66 3807798.11 3808490.51  0.02%     -    2s\n",
      "H    0     0                    3808090.9600 3808490.51  0.01%     -    2s\n",
      "     0     0 3808490.51    0   24 3808090.96 3808490.51  0.01%     -    3s\n",
      "     0     0 3808490.51    0   52 3808090.96 3808490.51  0.01%     -    3s\n",
      "H    0     0                    3808260.7100 3808490.51  0.01%     -    3s\n",
      "\n",
      "Cutting planes:\n",
      "  Gomory: 8\n",
      "  MIR: 2\n",
      "  Zero half: 1\n",
      "  Mod-K: 2\n",
      "\n",
      "Explored 1 nodes (624 simplex iterations) in 3.15 seconds\n",
      "Thread count was 4 (of 4 available processors)\n",
      "\n",
      "Solution count 10: 3.80826e+06 3.80809e+06 3.80809e+06 ... 3.15971e+06\n",
      "\n",
      "Optimal solution found (tolerance 1.00e-04)\n",
      "Best objective 3.808260710000e+06, best bound 3.808490511985e+06, gap 0.0060%\n",
      "\n",
      "User-callback calls 696, time in user-callback 0.00 sec\n"
     ]
    }
   ],
   "source": [
    "obj_knn, z_knn = prescribe_bookings_knn(Q,q,f,p,s,e,t,y_neighbors,y_hat);"
   ]
  },
  {
   "cell_type": "markdown",
   "id": "bb242f35",
   "metadata": {},
   "source": [
    "# OCT-based prescriptions"
   ]
  },
  {
   "cell_type": "code",
   "execution_count": 479,
   "id": "5d161bd8",
   "metadata": {},
   "outputs": [],
   "source": [
    "final_tree = IAI.read_json(\"final_tree\");\n",
    "#final_grid = IAI.read_json(\"final_grid\");"
   ]
  },
  {
   "cell_type": "code",
   "execution_count": 480,
   "id": "61c27783",
   "metadata": {},
   "outputs": [
    {
     "data": {
      "text/plain": [
       "prescribe_bookings_oct (generic function with 1 method)"
      ]
     },
     "execution_count": 480,
     "metadata": {},
     "output_type": "execute_result"
    }
   ],
   "source": [
    "function prescribe_bookings_oct(Q,q,f,p,s,e,t,y_neighbors,M)\n",
    "    \"\"\"\n",
    "    A function that receives n booking requests over a time period 1,...,T and returns\n",
    "    a decision on each booking (accept or reject) so as to maximize revenue.\n",
    "    \n",
    "    @param Q: vector length J. J is the number of room types we have (1 person, 2 person, etc.) Q_j is \n",
    "    the number of rooms available we have of type j \n",
    "    @param q: constant. this is the cost incurred if a customer is overbooked \n",
    "    @param f: constant. Money received if a booking is canceled \n",
    "    @param p: vector length n. The price of each booking \n",
    "    @param s: vector length n. The starting day of each booking\n",
    "    @param e: vector length n. The ending day of each booking\n",
    "    @param t: vector length n. This gives the number of people that the ith booking is for\n",
    "    @param y_neighbors: binary matrix n X K. This is the historical neighbour data,\n",
    "                        whether the person canceled or not\n",
    "    @param M: big M constraints\n",
    "    \"\"\"\n",
    "    J = length(Q)\n",
    "    n,K = size(y_neighbors)\n",
    "    \n",
    "    gurobi_env=Gurobi.Env(); #to suppress some Gurobi outputs\n",
    "    model = Model(with_optimizer(Gurobi.Optimizer, gurobi_env))\n",
    "    set_optimizer_attribute(model, \"OutputFlag\", 0)\n",
    "    \n",
    "    @variable(model,z[i=1:n],Bin) #accept booking i or not\n",
    "    @variable(model,b[i=1:n],Bin) #person i is overbooked or not\n",
    "    @variable(model,w[i=1:n,j=1:J]>=0) #number rooms occupied of type j when person i arrives\n",
    "    \n",
    "    @constraint(model,[i=1:n], z[i] <= 1-b[i])\n",
    "    @constraint(model,[i=1:n,j=1:J],M*b[i]>=w[i,j]-Q[j]+1)\n",
    "\n",
    "    @constraint(model,[i=1:n,j=1:J],w[i,j] ==  sum([z[l]*sum((1-y_neighbors[l,k]) for k=1:K) for l=1:n \n",
    "                                                    if ((s[l] <= s[i]) && (e[l] > s[i]) && (l!=i))]   )) \n",
    "\n",
    "    @objective(model,Max, sum(z[i]*(y_neighbors[i,k]*f + (1-y_neighbors[i,k])*p[i]) for k=1:K for i=1:n) -\n",
    "                         q*sum(b[i] for i=1:n))\n",
    "    optimize!(model)\n",
    "    return objective_value(model) , value.(z)\n",
    "end"
   ]
  },
  {
   "cell_type": "markdown",
   "id": "85c4d2f0",
   "metadata": {},
   "source": [
    "# Evaluate Choice"
   ]
  },
  {
   "cell_type": "code",
   "execution_count": 481,
   "id": "4294db57",
   "metadata": {},
   "outputs": [
    {
     "data": {
      "text/plain": [
       "eval_choice (generic function with 1 method)"
      ]
     },
     "execution_count": 481,
     "metadata": {},
     "output_type": "execute_result"
    }
   ],
   "source": [
    "function eval_choice(z,y,Q,q,f,p,s,e,t)\n",
    "    \"\"\"\n",
    "    s/z has to be sorted by arrival data\n",
    "    \"\"\"\n",
    "    J = length(Q)\n",
    "    n,K = size(y_neighbors)\n",
    "    total_profit = 0 \n",
    "    num_overbooked = 0\n",
    "    num_canceled = 0\n",
    "    bookings_sold = 0\n",
    "    for i=1:n\n",
    "        if z[i] == 1\n",
    "            if y[i] == 1\n",
    "                total_profit += f\n",
    "                num_canceled += 1\n",
    "            else\n",
    "                num_visitors = 0 \n",
    "                for i2=1:(i-1)\n",
    "                    if (e[i2] > s[i]) && (t[i]==t[i2]) \n",
    "                        num_visitors += z[i2]*(1-y[i2])\n",
    "                    end\n",
    "                end\n",
    "                #println(\"num visitors: \",num_visitors)\n",
    "                if num_visitors < Q[t[i]]\n",
    "                    total_profit += p[i]\n",
    "                    bookings_sold += 1\n",
    "                else\n",
    "                    num_overbooked += 1\n",
    "                    total_profit -= q\n",
    "                end\n",
    "            end\n",
    "        end\n",
    "    end\n",
    "    \n",
    "    return total_profit,num_overbooked, num_canceled, bookings_sold\n",
    "end"
   ]
  },
  {
   "cell_type": "code",
   "execution_count": 482,
   "id": "b1f5c035",
   "metadata": {},
   "outputs": [
    {
     "data": {
      "text/plain": [
       "(580868.6899999995, 0, 500, 863)"
      ]
     },
     "execution_count": 482,
     "metadata": {},
     "output_type": "execute_result"
    }
   ],
   "source": [
    "total_profit_baseline,num_overbooked_baseline, num_canceled_baseline, bookings_sold_baseline = eval_choice(z_baseline,y_new,Q,q,f,p,s,e,t)"
   ]
  },
  {
   "cell_type": "code",
   "execution_count": 483,
   "id": "e5126e12",
   "metadata": {},
   "outputs": [
    {
     "data": {
      "text/plain": [
       "(686159.9899999994, 30, 778, 1081)"
      ]
     },
     "execution_count": 483,
     "metadata": {},
     "output_type": "execute_result"
    }
   ],
   "source": [
    "total_profit_knn,num_overbooked_knn, num_canceled_knn, bookings_sold_knn = eval_choice(z_knn,y_new,Q,q,f,p,s,e,t)"
   ]
  },
  {
   "cell_type": "code",
   "execution_count": null,
   "id": "40df542c",
   "metadata": {},
   "outputs": [],
   "source": []
  }
 ],
 "metadata": {
  "kernelspec": {
   "display_name": "Julia 1.6.2",
   "language": "julia",
   "name": "julia-1.6"
  },
  "language_info": {
   "file_extension": ".jl",
   "mimetype": "application/julia",
   "name": "julia",
   "version": "1.6.2"
  }
 },
 "nbformat": 4,
 "nbformat_minor": 5
}
