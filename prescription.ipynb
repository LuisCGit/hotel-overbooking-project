{
 "cells": [
  {
   "cell_type": "code",
   "execution_count": 1,
   "id": "70ba9a09",
   "metadata": {},
   "outputs": [],
   "source": [
    "using StatsBase, Random, LinearAlgebra, DecisionTree, DataFrames, MLDataUtils, ScikitLearn, CSV, Plots, Gurobi, JuMP, Plots.PlotMeasures"
   ]
  },
  {
   "cell_type": "markdown",
   "id": "3e4cbc56",
   "metadata": {},
   "source": [
    "# Scenario Generation"
   ]
  },
  {
   "cell_type": "code",
   "execution_count": 2,
   "id": "2a751aaf",
   "metadata": {},
   "outputs": [
    {
     "data": {
      "text/plain": [
       "scenario_generation (generic function with 2 methods)"
      ]
     },
     "execution_count": 2,
     "metadata": {},
     "output_type": "execute_result"
    }
   ],
   "source": [
    "function scenario_generation(y_neighbors,method=\"knn\")\n",
    "    \"\"\"\n",
    "    generate scenarios of cancelation/non-cancelation based on historic data.\n",
    "    Procedure will depend on whether the prescriptive method is knn or OCT\n",
    "    \n",
    "    @param y_neighbors: n x k matrix holding possible cancelation scenarios for each observation\n",
    "    \"\"\"\n",
    "    n,k = size(y_neighbors)\n",
    "    y_hat = zeros(n) \n",
    "    if method == \"knn\"\n",
    "        for i=1:n\n",
    "            p = sum(y_neighbors[i,:])/k\n",
    "            y_hat[i] = p  #(rand() < p) ? 1 : 0 #1 with probability p, otherwise 0\n",
    "        end\n",
    "    end\n",
    "    return y_hat\n",
    "end"
   ]
  },
  {
   "cell_type": "code",
   "execution_count": 111,
   "id": "2687c5b1",
   "metadata": {},
   "outputs": [],
   "source": [
    "s = vec(Matrix(CSV.read(\"s.csv\",DataFrame; header=0)));\n",
    "s = broadcast(x -> Integer(x), s)\n",
    "e = vec(Matrix(CSV.read(\"e.csv\",DataFrame; header=0)));\n",
    "e = broadcast(x -> Integer(x), e)\n",
    "p = vec(Matrix(CSV.read(\"p.csv\",DataFrame; header=0)));\n",
    "t = vec(Matrix(CSV.read(\"t.csv\",DataFrame; header=0)));\n",
    "t = broadcast(x -> Integer(x), t)\n",
    "y_neighbors = (Matrix(CSV.read(\"y_neighbors.csv\",DataFrame; header=0)));\n",
    "room_capacities = 450\n",
    "Q = ones(5).*room_capacities #vec([5,5,5,5,5,5]);\n",
    "M = 10^5;\n",
    "f = 50;\n",
    "q = 500;"
   ]
  },
  {
   "cell_type": "code",
   "execution_count": 112,
   "id": "4c483ba4",
   "metadata": {},
   "outputs": [],
   "source": [
    "X_new = (Matrix(CSV.read(\"X_new.csv\",DataFrame; header=0)));\n",
    "y_new = vec(Matrix(CSV.read(\"y_new.csv\",DataFrame; header=0)));\n",
    "y_new = broadcast(x -> Integer(x), y_new);\n",
    "y_hat =  scenario_generation(y_neighbors);"
   ]
  },
  {
   "cell_type": "markdown",
   "id": "ef3713a4",
   "metadata": {},
   "source": [
    "# Baseline Approach"
   ]
  },
  {
   "cell_type": "markdown",
   "id": "444e3445",
   "metadata": {},
   "source": [
    "The baseline approach will never allow a scenario where overbooking could happen."
   ]
  },
  {
   "cell_type": "code",
   "execution_count": 113,
   "id": "b315174f",
   "metadata": {},
   "outputs": [
    {
     "data": {
      "text/plain": [
       "prescribe_bookings_baseline (generic function with 1 method)"
      ]
     },
     "execution_count": 113,
     "metadata": {},
     "output_type": "execute_result"
    }
   ],
   "source": [
    "function prescribe_bookings_baseline(Q,q,f,p,s,e,t)\n",
    "    \"\"\"\n",
    "    A function that receives n booking requests over a time period 1,...,T and returns\n",
    "    a decision on each booking (accept or reject) so as to maximize revenue.\n",
    "    \n",
    "    @param Q: vector length J. J is the number of room types we have (1 person, 2 person, etc.) Q_j is \n",
    "    the number of rooms available we have of type j \n",
    "    @param q: constant. this is the cost incurred if a customer is overbooked \n",
    "    @param f: constant. Money received if a booking is canceled \n",
    "    @param p: vector length n. The price of each booking \n",
    "    @param s: vector length n. The starting day of each booking\n",
    "    @param e: vector length n. The ending day of each booking\n",
    "    @param t: vector length n. This gives the number of people that the ith booking is for\n",
    "    @param y_neighbors: binary matrix n X K. This is the historical neighbour data,\n",
    "                        whether the person canceled or not\n",
    "    @param M: big M constraints\n",
    "    @param y_hat: estimate of cancelation probabilities \n",
    "    \"\"\"\n",
    "    J = length(Q)\n",
    "    n = length(s)\n",
    "    \n",
    "    gurobi_env=Gurobi.Env(); #to suppress some Gurobi outputs\n",
    "    model = Model(with_optimizer(Gurobi.Optimizer, gurobi_env))\n",
    "    set_optimizer_attribute(model, \"OutputFlag\", 0)\n",
    "    #set_optimizer_attribute(model, \"MIPGap\", 0.1) #needed to ensure convergence\n",
    "\n",
    "    \n",
    "    @variable(model,z[i=1:n],Bin) #accept booking i or not\n",
    "\n",
    "    #STRATEGY: Never allow num_people_booked > capacity \n",
    "    for i=1:n\n",
    "        booked_people = 0 \n",
    "        for i2=1:n\n",
    "            if (s[i2] <= s[i]) && (e[i2] > s[i]) && (i2 !== i) && (t[i2] == t[i])\n",
    "                booked_people += 1*z[i2]\n",
    "            end\n",
    "        end            \n",
    "        @constraint(model,booked_people <= Q[t[i]])\n",
    "    end\n",
    "    \n",
    "    @objective(model,Max, sum(z[i]*p[i] for i=1:n))\n",
    "    optimize!(model)\n",
    "    return objective_value(model) , value.(z)\n",
    "end"
   ]
  },
  {
   "cell_type": "code",
   "execution_count": 114,
   "id": "a3a0b81c",
   "metadata": {},
   "outputs": [
    {
     "name": "stdout",
     "output_type": "stream",
     "text": [
      "Academic license - for non-commercial use only - expires 2022-08-18\n"
     ]
    }
   ],
   "source": [
    "obj_baseline, z_baseline = prescribe_bookings_baseline(Q,q,f,p,s,e,t);"
   ]
  },
  {
   "cell_type": "markdown",
   "id": "838b332c",
   "metadata": {},
   "source": [
    "# kNN-based prescriptions"
   ]
  },
  {
   "cell_type": "code",
   "execution_count": 115,
   "id": "20d54eee",
   "metadata": {},
   "outputs": [
    {
     "data": {
      "text/plain": [
       "prescribe_bookings_knn_new (generic function with 1 method)"
      ]
     },
     "execution_count": 115,
     "metadata": {},
     "output_type": "execute_result"
    }
   ],
   "source": [
    "function prescribe_bookings_knn_new(Q,q,f,p,s,e,t,y_neighbors,y_hat)\n",
    "    \"\"\"\n",
    "    A function that receives n booking requests over a time period 1,...,T and returns\n",
    "    a decision on each booking (accept or reject) so as to maximize revenue.\n",
    "    \n",
    "    @param Q: vector length J. J is the number of room types we have (1 person, 2 person, etc.) Q_j is \n",
    "    the number of rooms available we have of type j \n",
    "    @param q: constant. this is the cost incurred if a customer is overbooked \n",
    "    @param f: constant. Money received if a booking is canceled \n",
    "    @param p: vector length n. The price of each booking \n",
    "    @param s: vector length n. The starting day of each booking\n",
    "    @param e: vector length n. The ending day of each booking\n",
    "    @param t: vector length n. This gives the number of people that the ith booking is for\n",
    "    @param y_neighbors: binary matrix n X K. This is the historical neighbour data,\n",
    "                        whether the person canceled or not\n",
    "    @param M: big M constraints\n",
    "    @param y_hat: estimate of whether people will cancel or not \n",
    "    \"\"\"\n",
    "    J = length(Q)\n",
    "    n,K = size(y_neighbors)\n",
    "    s = s .+ 1\n",
    "    T = Int(maximum(s))\n",
    "    \n",
    "    gurobi_env=Gurobi.Env(); #to suppress some Gurobi outputs\n",
    "    model = Model(with_optimizer(Gurobi.Optimizer, gurobi_env))\n",
    "    set_optimizer_attribute(model, \"OutputFlag\", 0)\n",
    "    #set_optimizer_attribute(model, \"MIPGap\", 0.1) #needed to ensure convergence\n",
    "\n",
    "    \n",
    "    @variable(model,z[i=1:n],Bin) #accept booking i or not\n",
    "    @variable(model,m[time=1:T,j=1:J]) #model ith min (for penalty terms)\n",
    "    @variable(model,exp_occupancy[time=1:T,j=1:J]) #expected occupancy at time t for room size j\n",
    "    \n",
    "    #STRATEGY: multiply expected surplus by q to penalise overbooking in objective\n",
    "\n",
    "    obj = 0\n",
    "    for time=1:T\n",
    "        for j=1:J\n",
    "            expected_people = 0\n",
    "            for i=1:n\n",
    "                if (s[i] <= time) && (e[i] > time) && (t[i] == j)\n",
    "                    expected_people += z[i]*(1-y_hat[i])*1\n",
    "                end\n",
    "            end   \n",
    "            @constraint(model, exp_occupancy[time,j] == expected_people)\n",
    "            @constraint(model, m[time,j] <= 0)\n",
    "            @constraint(model, m[time,j] <= Q[j] - exp_occupancy[time,j])\n",
    "            #objective_term = min(Q[t[i]] - expected_people,0)*(q/n)\n",
    "            if length(p[s.==time]) >= 1\n",
    "                day_avg =  mean(p[s.==time])\n",
    "            else\n",
    "                day_avg = 0\n",
    "            end\n",
    "            obj += m[time,j]*(q+day_avg) #(q/n)\n",
    "        end\n",
    "    end\n",
    "    \n",
    "    obj += sum((1/K)*z[i]*(y_neighbors[i,k]*f + (1-y_neighbors[i,k])*p[i]) for k=1:K for i=1:n)\n",
    "    \n",
    "    @objective(model,Max, obj)\n",
    "    optimize!(model)\n",
    "    return objective_value(model) , value.(z), value.(m), value.(exp_occupancy)\n",
    "end"
   ]
  },
  {
   "cell_type": "code",
   "execution_count": 132,
   "id": "796fb38f",
   "metadata": {},
   "outputs": [
    {
     "data": {
      "text/plain": [
       "prescribe_bookings_knn (generic function with 2 methods)"
      ]
     },
     "execution_count": 132,
     "metadata": {},
     "output_type": "execute_result"
    }
   ],
   "source": [
    "function prescribe_bookings_knn(Q,q,f,p,s,e,t,y_neighbors,y_hat,alpha=1)\n",
    "    \"\"\"\n",
    "    A function that receives n booking requests over a time period 1,...,T and returns\n",
    "    a decision on each booking (accept or reject) so as to maximize revenue.\n",
    "    \n",
    "    @param Q: vector length J. J is the number of room types we have (1 person, 2 person, etc.) Q_j is \n",
    "    the number of rooms available we have of type j \n",
    "    @param q: constant. this is the cost incurred if a customer is overbooked \n",
    "    @param f: constant. Money received if a booking is canceled \n",
    "    @param p: vector length n. The price of each booking \n",
    "    @param s: vector length n. The starting day of each booking\n",
    "    @param e: vector length n. The ending day of each booking\n",
    "    @param t: vector length n. This gives the number of people that the ith booking is for\n",
    "    @param y_neighbors: binary matrix n X K. This is the historical neighbour data,\n",
    "                        whether the person canceled or not\n",
    "    @param M: big M constraints\n",
    "    @param y_hat: estimate of cancelation probabilities \n",
    "    \"\"\"\n",
    "    J = length(Q)\n",
    "    n,K = size(y_neighbors)\n",
    "    \n",
    "    gurobi_env=Gurobi.Env(); #to suppress some Gurobi outputs\n",
    "    model = Model(with_optimizer(Gurobi.Optimizer, gurobi_env))\n",
    "    set_optimizer_attribute(model, \"OutputFlag\", 0)\n",
    "    #set_optimizer_attribute(model, \"MIPGap\", 0.1) #needed to ensure convergence\n",
    "\n",
    "    \n",
    "    @variable(model,z[i=1:n],Bin) #accept booking i or not\n",
    "    #@variable(model,b[i=1:n],Bin) #person i is overbooked or not\n",
    "    #@variable(model,exp[i=1:n,j=1:J]>=0,Int) #number rooms occupied of type j when person i arrives\n",
    "    \n",
    "    #@constraint(model,[i=1:n,j=1:J],M*b[i]>=w[i,j]-Q[j]+1)\n",
    "\n",
    "    #STRATEGY: Say that the expected number of guests cannot exceed capacity\n",
    "    for i=1:n\n",
    "        expected_people = 0 \n",
    "        for i2=1:n\n",
    "            if (s[i2] <= s[i]) && (e[i2] > s[i]) && (i2 !== i) && (t[i2] == t[i])\n",
    "                expected_people += z[i2]*(1-y_hat[i2])*1\n",
    "            end\n",
    "        end            \n",
    "        @constraint(model,expected_people <= alpha*Q[t[i]])\n",
    "    end\n",
    "    \n",
    "    @objective(model,Max, sum(z[i]*(y_neighbors[i,k]*f + (1-y_neighbors[i,k])*p[i]) for k=1:K for i=1:n))\n",
    "    optimize!(model)\n",
    "    return objective_value(model) , value.(z)\n",
    "end"
   ]
  },
  {
   "cell_type": "code",
   "execution_count": null,
   "id": "daf254ed",
   "metadata": {},
   "outputs": [],
   "source": []
  },
  {
   "cell_type": "code",
   "execution_count": 117,
   "id": "e2b7772c",
   "metadata": {},
   "outputs": [
    {
     "name": "stdout",
     "output_type": "stream",
     "text": [
      "Academic license - for non-commercial use only - expires 2022-08-18\n"
     ]
    }
   ],
   "source": [
    "obj_knn, z_knn, m_knn, exp_knn = prescribe_bookings_knn_new(Q,q,f,p,s,e,t,y_neighbors,y_hat);"
   ]
  },
  {
   "cell_type": "code",
   "execution_count": 119,
   "id": "77b5d3c1",
   "metadata": {},
   "outputs": [
    {
     "name": "stdout",
     "output_type": "stream",
     "text": [
      "Academic license - for non-commercial use only - expires 2022-08-18\n"
     ]
    }
   ],
   "source": [
    "obj_knn2, z_knn2 = prescribe_bookings_knn(Q,q,f,p,s,e,t,y_neighbors,y_hat);"
   ]
  },
  {
   "cell_type": "markdown",
   "id": "85c4d2f0",
   "metadata": {},
   "source": [
    "# Evaluate Choice"
   ]
  },
  {
   "cell_type": "code",
   "execution_count": 122,
   "id": "4294db57",
   "metadata": {},
   "outputs": [
    {
     "data": {
      "text/plain": [
       "eval_choice (generic function with 1 method)"
      ]
     },
     "execution_count": 122,
     "metadata": {},
     "output_type": "execute_result"
    }
   ],
   "source": [
    "function eval_choice(z,y,Q,q,f,p,s,e,t)\n",
    "    \"\"\"\n",
    "    s/z has to be sorted by arrival data\n",
    "    \"\"\"\n",
    "    J = length(Q)\n",
    "    n,K = size(y_neighbors)\n",
    "    total_profit = 0 \n",
    "    num_overbooked = 0\n",
    "    num_canceled = 0\n",
    "    bookings_sold = 0\n",
    "    for i=1:n\n",
    "        if z[i] == 1\n",
    "            if y[i] == 1\n",
    "                total_profit += f\n",
    "                num_canceled += 1\n",
    "            else\n",
    "                num_visitors = 0 \n",
    "                for i2=1:(i-1)\n",
    "                    if (e[i2] > s[i]) && (t[i]==t[i2]) \n",
    "                        num_visitors += z[i2]*(1-y[i2])\n",
    "                    end\n",
    "                end\n",
    "                #println(\"num visitors: \",num_visitors)\n",
    "                if num_visitors < Q[t[i]]\n",
    "                    total_profit += p[i]\n",
    "                    bookings_sold += 1\n",
    "                else\n",
    "                    num_overbooked += 1\n",
    "                    total_profit -= q\n",
    "                end\n",
    "            end\n",
    "        end\n",
    "    end\n",
    "    \n",
    "    return total_profit,num_overbooked, num_canceled, bookings_sold\n",
    "end"
   ]
  },
  {
   "cell_type": "code",
   "execution_count": 123,
   "id": "b1f5c035",
   "metadata": {},
   "outputs": [
    {
     "data": {
      "text/plain": [
       "(929970.3300000009, 0, 953, 1771)"
      ]
     },
     "execution_count": 123,
     "metadata": {},
     "output_type": "execute_result"
    }
   ],
   "source": [
    "total_profit_baseline,num_overbooked_baseline, num_canceled_baseline, bookings_sold_baseline = eval_choice(z_baseline,y_new,Q,q,f,p,s,e,t)"
   ]
  },
  {
   "cell_type": "code",
   "execution_count": 124,
   "id": "e5126e12",
   "metadata": {},
   "outputs": [
    {
     "data": {
      "text/plain": [
       "(929970.3300000009, 0, 953, 1771)"
      ]
     },
     "execution_count": 124,
     "metadata": {},
     "output_type": "execute_result"
    }
   ],
   "source": [
    "total_profit_knn,num_overbooked_knn, num_canceled_knn, bookings_sold_knn = eval_choice(z_knn,y_new,Q,q,f,p,s,e,t)"
   ]
  },
  {
   "cell_type": "code",
   "execution_count": 125,
   "id": "36b945a1",
   "metadata": {},
   "outputs": [
    {
     "data": {
      "text/plain": [
       "(929970.3300000009, 0, 953, 1771)"
      ]
     },
     "execution_count": 125,
     "metadata": {},
     "output_type": "execute_result"
    }
   ],
   "source": [
    "total_profit_knn2,num_overbooked_knn2, num_canceled_knn2, bookings_sold_knn2 = eval_choice(z_knn2,y_new,Q,q,f,p,s,e,t)"
   ]
  },
  {
   "cell_type": "code",
   "execution_count": 18,
   "id": "abe47894",
   "metadata": {},
   "outputs": [
    {
     "data": {
      "text/plain": [
       "5-element Vector{Float64}:\n",
       " 100.0\n",
       " 100.0\n",
       " 100.0\n",
       " 100.0\n",
       " 100.0"
      ]
     },
     "execution_count": 18,
     "metadata": {},
     "output_type": "execute_result"
    }
   ],
   "source": [
    "Q"
   ]
  },
  {
   "cell_type": "code",
   "execution_count": 19,
   "id": "eaf1e7e2",
   "metadata": {},
   "outputs": [
    {
     "data": {
      "text/plain": [
       "1441.0"
      ]
     },
     "execution_count": 19,
     "metadata": {},
     "output_type": "execute_result"
    }
   ],
   "source": [
    "sum(z_baseline)"
   ]
  },
  {
   "cell_type": "markdown",
   "id": "6fc4fd34",
   "metadata": {},
   "source": [
    "# Experiments "
   ]
  },
  {
   "cell_type": "code",
   "execution_count": 22,
   "id": "dc3216ad",
   "metadata": {},
   "outputs": [
    {
     "data": {
      "text/plain": [
       "capacity_experiment (generic function with 1 method)"
      ]
     },
     "execution_count": 22,
     "metadata": {},
     "output_type": "execute_result"
    }
   ],
   "source": [
    "function capacity_experiment(Qs,q,f,p,s,e,t,y_neighbors,y_hat,y_new)\n",
    "    \"\"\"\n",
    "    run baseline model as well as prescriptive model for varying hotel capacity levels and \n",
    "    compare revenue.\n",
    "    \n",
    "    @param Qs: list of capacities to test out\n",
    "    \"\"\"\n",
    "    N = length(Qs)\n",
    "    baseline_revenue = zeros(N)\n",
    "    baseline_overbookings = zeros(N)\n",
    "    baseline_cancelations = zeros(N)\n",
    "    baseline_successful_bookings = zeros(N)\n",
    "    knn_revenue = zeros(N)\n",
    "    knn_overbookings = zeros(N)\n",
    "    knn_cancelations = zeros(N)\n",
    "    knn_successful_bookings = zeros(N)\n",
    "    \n",
    "    for i=1:N\n",
    "        Q = ones(5).*Qs[i]\n",
    "        \n",
    "        obj_baseline, z_baseline = prescribe_bookings_baseline(Q,q,f,p,s,e,t);\n",
    "        obj_knn, z_knn = prescribe_bookings_knn(Q,q,f,p,s,e,t,y_neighbors,y_hat);\n",
    "        \n",
    "        total_profit_baseline,num_overbooked_baseline, num_canceled_baseline, bookings_sold_baseline = eval_choice(z_baseline,y_new,Q,q,f,p,s,e,t)\n",
    "        total_profit_knn,num_overbooked_knn, num_canceled_knn, bookings_sold_knn = eval_choice(z_knn,y_new,Q,q,f,p,s,e,t)\n",
    "        \n",
    "        baseline_revenue[i] = total_profit_baseline\n",
    "        baseline_overbookings[i] = num_overbooked_baseline\n",
    "        baseline_cancelations[i] = num_canceled_baseline\n",
    "        baseline_successful_bookings[i] = bookings_sold_baseline\n",
    "                \n",
    "        knn_revenue[i] = total_profit_knn\n",
    "        knn_overbookings[i] = num_overbooked_knn\n",
    "        knn_cancelations[i] = num_canceled_knn\n",
    "        knn_successful_bookings[i] = bookings_sold_knn\n",
    "    end\n",
    "    \n",
    "    return (baseline_revenue, baseline_overbookings, baseline_cancelations, baseline_successful_bookings,\n",
    "            knn_revenue, knn_overbookings, knn_cancelations, knn_successful_bookings)\n",
    "end"
   ]
  },
  {
   "cell_type": "code",
   "execution_count": 126,
   "id": "8412237e",
   "metadata": {},
   "outputs": [
    {
     "name": "stdout",
     "output_type": "stream",
     "text": [
      "Academic license - for non-commercial use only - expires 2022-08-18\n",
      "Academic license - for non-commercial use only - expires 2022-08-18\n",
      "Academic license - for non-commercial use only - expires 2022-08-18\n",
      "Academic license - for non-commercial use only - expires 2022-08-18\n",
      "Academic license - for non-commercial use only - expires 2022-08-18\n",
      "Academic license - for non-commercial use only - expires 2022-08-18\n",
      "Academic license - for non-commercial use only - expires 2022-08-18\n",
      "Academic license - for non-commercial use only - expires 2022-08-18\n",
      "Academic license - for non-commercial use only - expires 2022-08-18\n",
      "Academic license - for non-commercial use only - expires 2022-08-18\n",
      "Academic license - for non-commercial use only - expires 2022-08-18\n",
      "Academic license - for non-commercial use only - expires 2022-08-18\n",
      "Academic license - for non-commercial use only - expires 2022-08-18\n",
      "Academic license - for non-commercial use only - expires 2022-08-18\n",
      "Academic license - for non-commercial use only - expires 2022-08-18\n",
      "Academic license - for non-commercial use only - expires 2022-08-18\n",
      "Academic license - for non-commercial use only - expires 2022-08-18\n",
      "Academic license - for non-commercial use only - expires 2022-08-18\n",
      "Academic license - for non-commercial use only - expires 2022-08-18\n",
      "Academic license - for non-commercial use only - expires 2022-08-18\n",
      "Academic license - for non-commercial use only - expires 2022-08-18\n",
      "Academic license - for non-commercial use only - expires 2022-08-18\n",
      "Academic license - for non-commercial use only - expires 2022-08-18\n",
      "Academic license - for non-commercial use only - expires 2022-08-18\n",
      "Academic license - for non-commercial use only - expires 2022-08-18\n",
      "Academic license - for non-commercial use only - expires 2022-08-18\n",
      "Academic license - for non-commercial use only - expires 2022-08-18\n",
      "Academic license - for non-commercial use only - expires 2022-08-18\n",
      "Academic license - for non-commercial use only - expires 2022-08-18\n",
      "Academic license - for non-commercial use only - expires 2022-08-18\n",
      "Academic license - for non-commercial use only - expires 2022-08-18\n",
      "Academic license - for non-commercial use only - expires 2022-08-18\n",
      "Academic license - for non-commercial use only - expires 2022-08-18\n",
      "Academic license - for non-commercial use only - expires 2022-08-18\n",
      "Academic license - for non-commercial use only - expires 2022-08-18\n",
      "Academic license - for non-commercial use only - expires 2022-08-18\n"
     ]
    }
   ],
   "source": [
    "Qs = 25:25:450\n",
    "(baseline_revenue, baseline_overbookings, baseline_cancelations, baseline_successful_bookings,\n",
    " knn_revenue, knn_overbookings, knn_cancelations, knn_successful_bookings) = capacity_experiment(Qs,q,f,p,s,e,t,y_neighbors,y_hat,y_new);"
   ]
  },
  {
   "cell_type": "code",
   "execution_count": 137,
   "id": "ad10cf83",
   "metadata": {},
   "outputs": [],
   "source": [
    "plot(Qs,[baseline_revenue,knn_revenue], label = [\"baseline\" \"kNN prescription\"],\n",
    "   size=(2500,2500), xtickfontsize=22,ytickfontsize=22, xlabel = \"Capacity\", ylabel = \"Revenue (EUR)\",\n",
    "   labelfontsize=28, left_margin=15mm, legendfontsize=24, title=\"Revenue versus Hotel Capacity\",\n",
    "   titlefontsize=38,legend = :topleft)\n",
    "savefig(\"hotel_rev_vs_capacity.pdf\")"
   ]
  },
  {
   "cell_type": "code",
   "execution_count": 138,
   "id": "457f7513",
   "metadata": {},
   "outputs": [],
   "source": [
    "plot(Qs,[baseline_cancelations,knn_cancelations], label = [\"baseline\" \"kNN prescription\"],\n",
    "   size=(2500,2500), xtickfontsize=22,ytickfontsize=22, xlabel = \"Capacity\", ylabel = \"Cancelations\",\n",
    "   labelfontsize=28, left_margin=15mm, legendfontsize=24, title=\"Bookings Canceled versus Hotel Capacity\",\n",
    "   titlefontsize=38,legend = :topleft)\n",
    "savefig(\"hotel_cancel_vs_capacity.pdf\")"
   ]
  },
  {
   "cell_type": "code",
   "execution_count": 139,
   "id": "71188a87",
   "metadata": {},
   "outputs": [],
   "source": [
    "plot(Qs,[baseline_overbookings,knn_overbookings], label = [\"baseline\" \"kNN prescription\"],\n",
    "   size=(2500,2500), xtickfontsize=22,ytickfontsize=22, xlabel = \"Capacity\", ylabel = \"Overbookings\",\n",
    "   labelfontsize=28, left_margin=15mm, legendfontsize=24, title=\"Overbookings versus Hotel Capacity\",\n",
    "   titlefontsize=38,legend = :topleft)\n",
    "savefig(\"overbooking_vs_capacity.pdf\")"
   ]
  },
  {
   "cell_type": "code",
   "execution_count": 140,
   "id": "56d14822",
   "metadata": {},
   "outputs": [],
   "source": [
    "plot(Qs,[baseline_successful_bookings,knn_successful_bookings], label = [\"baseline\" \"kNN prescription\"],\n",
    "   size=(2500,2500), xtickfontsize=22,ytickfontsize=22, xlabel = \"Capacity\", ylabel = \"Successful Bookings\",\n",
    "   labelfontsize=28, left_margin=15mm, legendfontsize=24, title=\"Successful Bookings Hotel Capacity\",\n",
    "   titlefontsize=38,legend = :topleft)\n",
    "savefig(\"successful_vs_capacity.pdf\")"
   ]
  },
  {
   "cell_type": "code",
   "execution_count": null,
   "id": "2fbb9763",
   "metadata": {},
   "outputs": [],
   "source": [
    "# function validate_alpha(Q,q,f,p,s,e,t,y_neighbors,y_hat,alphas)\n",
    "    \n",
    "# end"
   ]
  },
  {
   "cell_type": "code",
   "execution_count": null,
   "id": "4e8befc8",
   "metadata": {},
   "outputs": [],
   "source": []
  }
 ],
 "metadata": {
  "kernelspec": {
   "display_name": "Julia 1.6.2",
   "language": "julia",
   "name": "julia-1.6"
  },
  "language_info": {
   "file_extension": ".jl",
   "mimetype": "application/julia",
   "name": "julia",
   "version": "1.6.2"
  }
 },
 "nbformat": 4,
 "nbformat_minor": 5
}
