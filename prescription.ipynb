{
 "cells": [
  {
   "cell_type": "code",
   "execution_count": 2,
   "id": "70ba9a09",
   "metadata": {},
   "outputs": [],
   "source": [
    "using StatsBase, Random, LinearAlgebra, DecisionTree, DataFrames, MLDataUtils, ScikitLearn, CSV, Plots, Gurobi, JuMP"
   ]
  },
  {
   "cell_type": "code",
   "execution_count": 106,
   "id": "2687c5b1",
   "metadata": {},
   "outputs": [],
   "source": [
    "s = vec(Matrix(CSV.read(\"s.csv\",DataFrame; header=0)));\n",
    "s = broadcast(x -> Integer(x), s)\n",
    "e = vec(Matrix(CSV.read(\"e.csv\",DataFrame; header=0)));\n",
    "e = broadcast(x -> Integer(x), e)\n",
    "p = vec(Matrix(CSV.read(\"p.csv\",DataFrame; header=0)));\n",
    "t = vec(Matrix(CSV.read(\"t.csv\",DataFrame; header=0)));\n",
    "t = broadcast(x -> Integer(x), t)\n",
    "y_neighbors = (Matrix(CSV.read(\"y_neighbors.csv\",DataFrame; header=0)));\n",
    "room_capacities = 80\n",
    "Q = ones(5).*room_capacities #vec([5,5,5,5,5,5]);\n",
    "M = 10^5;\n",
    "f = 50;\n",
    "q = 500;"
   ]
  },
  {
   "cell_type": "code",
   "execution_count": 18,
   "id": "4c483ba4",
   "metadata": {},
   "outputs": [],
   "source": [
    "X_new = (Matrix(CSV.read(\"X_new.csv\",DataFrame; header=0)));\n",
    "y_new = vec(Matrix(CSV.read(\"y_new.csv\",DataFrame; header=0)));\n",
    "y_new = broadcast(x -> Integer(x), y_new);\n",
    "y_hat =  scenario_generation(y_neighbors);"
   ]
  },
  {
   "cell_type": "markdown",
   "id": "3e4cbc56",
   "metadata": {},
   "source": [
    "# Scenario Generation"
   ]
  },
  {
   "cell_type": "code",
   "execution_count": 19,
   "id": "2a751aaf",
   "metadata": {},
   "outputs": [
    {
     "data": {
      "text/plain": [
       "scenario_generation (generic function with 2 methods)"
      ]
     },
     "execution_count": 19,
     "metadata": {},
     "output_type": "execute_result"
    }
   ],
   "source": [
    "function scenario_generation(y_neighbors,method=\"knn\")\n",
    "    \"\"\"\n",
    "    generate scenarios of cancelation/non-cancelation based on historic data.\n",
    "    Procedure will depend on whether the prescriptive method is knn or OCT\n",
    "    \n",
    "    @param y_neighbors: n x k matrix holding possible cancelation scenarios for each observation\n",
    "    \"\"\"\n",
    "    n,k = size(y_neighbors)\n",
    "    y_hat = zeros(n) \n",
    "    if method == \"knn\"\n",
    "        for i=1:n\n",
    "            p = sum(y_neighbors[i,:])/k\n",
    "            y_hat[i] = p  #(rand() < p) ? 1 : 0 #1 with probability p, otherwise 0\n",
    "        end\n",
    "    end\n",
    "    return y_hat\n",
    "end"
   ]
  },
  {
   "cell_type": "markdown",
   "id": "ef3713a4",
   "metadata": {},
   "source": [
    "# Baseline Approach"
   ]
  },
  {
   "cell_type": "markdown",
   "id": "444e3445",
   "metadata": {},
   "source": [
    "The baseline approach will never allow a scenario where overbooking could happen."
   ]
  },
  {
   "cell_type": "code",
   "execution_count": 71,
   "id": "b315174f",
   "metadata": {},
   "outputs": [
    {
     "data": {
      "text/plain": [
       "prescribe_bookings_baseline (generic function with 1 method)"
      ]
     },
     "execution_count": 71,
     "metadata": {},
     "output_type": "execute_result"
    }
   ],
   "source": [
    "function prescribe_bookings_baseline(Q,q,f,p,s,e,t)\n",
    "    \"\"\"\n",
    "    A function that receives n booking requests over a time period 1,...,T and returns\n",
    "    a decision on each booking (accept or reject) so as to maximize revenue.\n",
    "    \n",
    "    @param Q: vector length J. J is the number of room types we have (1 person, 2 person, etc.) Q_j is \n",
    "    the number of rooms available we have of type j \n",
    "    @param q: constant. this is the cost incurred if a customer is overbooked \n",
    "    @param f: constant. Money received if a booking is canceled \n",
    "    @param p: vector length n. The price of each booking \n",
    "    @param s: vector length n. The starting day of each booking\n",
    "    @param e: vector length n. The ending day of each booking\n",
    "    @param t: vector length n. This gives the number of people that the ith booking is for\n",
    "    @param y_neighbors: binary matrix n X K. This is the historical neighbour data,\n",
    "                        whether the person canceled or not\n",
    "    @param M: big M constraints\n",
    "    @param y_hat: estimate of cancelation probabilities \n",
    "    \"\"\"\n",
    "    J = length(Q)\n",
    "    n = length(s)\n",
    "    \n",
    "    gurobi_env=Gurobi.Env(); #to suppress some Gurobi outputs\n",
    "    model = Model(with_optimizer(Gurobi.Optimizer, gurobi_env))\n",
    "    #set_optimizer_attribute(model, \"OutputFlag\", 0)\n",
    "    #set_optimizer_attribute(model, \"MIPGap\", 0.1) #needed to ensure convergence\n",
    "\n",
    "    \n",
    "    @variable(model,z[i=1:n],Bin) #accept booking i or not\n",
    "\n",
    "    #STRATEGY: Never allow num_people_booked > capacity \n",
    "    for i=1:n\n",
    "        booked_people = 0 \n",
    "        for i2=1:n\n",
    "            if (s[i2] <= s[i]) && (e[i2] > s[i]) && (i2 !== i) && (t[i2] == t[i])\n",
    "                booked_people += 1*z[i2]\n",
    "            end\n",
    "        end            \n",
    "        @constraint(model,booked_people <= Q[t[i]])\n",
    "    end\n",
    "    \n",
    "    @objective(model,Max, sum(z[i]*p[i] for i=1:n))\n",
    "    optimize!(model)\n",
    "    return objective_value(model) , value.(z)\n",
    "end"
   ]
  },
  {
   "cell_type": "code",
   "execution_count": 107,
   "id": "a3a0b81c",
   "metadata": {},
   "outputs": [
    {
     "name": "stdout",
     "output_type": "stream",
     "text": [
      "Academic license - for non-commercial use only - expires 2022-08-18\n",
      "Gurobi Optimizer version 9.1.2 build v9.1.2rc0 (mac64)\n",
      "Thread count: 2 physical cores, 4 logical processors, using up to 4 threads\n",
      "Optimize a model with 2930 rows, 2930 columns and 757296 nonzeros\n",
      "Model fingerprint: 0x896f080b\n",
      "Variable types: 0 continuous, 2930 integer (2930 binary)\n",
      "Coefficient statistics:\n",
      "  Matrix range     [1e+00, 1e+00]\n",
      "  Objective range  [1e+01, 4e+03]\n",
      "  Bounds range     [0e+00, 0e+00]\n",
      "  RHS range        [8e+01, 8e+01]\n",
      "Found heuristic solution: objective 754997.12000\n",
      "Presolve removed 1117 rows and 1082 columns\n",
      "Presolve time: 1.39s\n",
      "Presolved: 1813 rows, 1848 columns, 666847 nonzeros\n",
      "Found heuristic solution: objective 836963.25000\n",
      "Variable types: 0 continuous, 1848 integer (1845 binary)\n",
      "\n",
      "Root relaxation: objective 9.484904e+05, 78 iterations, 0.04 seconds\n",
      "\n",
      "    Nodes    |    Current Node    |     Objective Bounds      |     Work\n",
      " Expl Unexpl |  Obj  Depth IntInf | Incumbent    BestBd   Gap | It/Node Time\n",
      "\n",
      "*    0     0               0    948490.44000 948490.440  0.00%     -    1s\n",
      "\n",
      "Explored 0 nodes (78 simplex iterations) in 1.55 seconds\n",
      "Thread count was 4 (of 4 available processors)\n",
      "\n",
      "Solution count 3: 948490 836963 754997 \n",
      "\n",
      "Optimal solution found (tolerance 1.00e-04)\n",
      "Best objective 9.484904400000e+05, best bound 9.484904400000e+05, gap 0.0000%\n",
      "\n",
      "User-callback calls 110, time in user-callback 0.00 sec\n"
     ]
    }
   ],
   "source": [
    "obj_baseline, z_baseline = prescribe_bookings_baseline(Q,q,f,p,s,e,t);"
   ]
  },
  {
   "cell_type": "code",
   "execution_count": 65,
   "id": "70f70943",
   "metadata": {},
   "outputs": [
    {
     "data": {
      "text/plain": [
       "2930"
      ]
     },
     "execution_count": 65,
     "metadata": {},
     "output_type": "execute_result"
    }
   ],
   "source": [
    "length(z_baseline)"
   ]
  },
  {
   "cell_type": "markdown",
   "id": "838b332c",
   "metadata": {},
   "source": [
    "# kNN-based prescriptions"
   ]
  },
  {
   "cell_type": "code",
   "execution_count": 133,
   "id": "20d54eee",
   "metadata": {},
   "outputs": [
    {
     "data": {
      "text/plain": [
       "prescribe_bookings_knn_new (generic function with 2 methods)"
      ]
     },
     "execution_count": 133,
     "metadata": {},
     "output_type": "execute_result"
    }
   ],
   "source": [
    "function prescribe_bookings_knn_new(Q,q,f,p,s,e,t,y_neighbors,y_hat)\n",
    "    \"\"\"\n",
    "    A function that receives n booking requests over a time period 1,...,T and returns\n",
    "    a decision on each booking (accept or reject) so as to maximize revenue.\n",
    "    \n",
    "    @param Q: vector length J. J is the number of room types we have (1 person, 2 person, etc.) Q_j is \n",
    "    the number of rooms available we have of type j \n",
    "    @param q: constant. this is the cost incurred if a customer is overbooked \n",
    "    @param f: constant. Money received if a booking is canceled \n",
    "    @param p: vector length n. The price of each booking \n",
    "    @param s: vector length n. The starting day of each booking\n",
    "    @param e: vector length n. The ending day of each booking\n",
    "    @param t: vector length n. This gives the number of people that the ith booking is for\n",
    "    @param y_neighbors: binary matrix n X K. This is the historical neighbour data,\n",
    "                        whether the person canceled or not\n",
    "    @param M: big M constraints\n",
    "    @param y_hat: estimate of whether people will cancel or not \n",
    "    \"\"\"\n",
    "    J = length(Q)\n",
    "    n,K = size(y_neighbors)\n",
    "    s = s .+ 1\n",
    "    T = Int(maximum(s))\n",
    "    \n",
    "    gurobi_env=Gurobi.Env(); #to suppress some Gurobi outputs\n",
    "    model = Model(with_optimizer(Gurobi.Optimizer, gurobi_env))\n",
    "    #set_optimizer_attribute(model, \"OutputFlag\", 0)\n",
    "    #set_optimizer_attribute(model, \"MIPGap\", 0.1) #needed to ensure convergence\n",
    "\n",
    "    \n",
    "    @variable(model,z[i=1:n],Bin) #accept booking i or not\n",
    "    @variable(model,m[time=1:T,j=1:J]) #model ith min (for penalty terms)\n",
    "    \n",
    "    #STRATEGY: multiply expected surplus by q to penalise overbooking in objective\n",
    "#     objective = 0\n",
    "#     for i=1:n\n",
    "#         expected_people = 0\n",
    "#         for i2=1:n\n",
    "#             if (s[i2] <= s[i]) && (e[i2] > s[i]) && (i2 !== i) && (t[i2] == t[i])\n",
    "#                 expected_people += z[i2]*(1-y_hat[i2])*1\n",
    "#             end\n",
    "#         end   \n",
    "#         @constraint(model, m[i] <= 0)\n",
    "#         @constraint(model, m[i] <= Q[t[i]] - expected_people)\n",
    "#         #objective_term = min(Q[t[i]] - expected_people,0)*(q/n)\n",
    "#         objective += m[i]*(q+p[i]) #(q/n)\n",
    "#     end\n",
    "    objective = 0\n",
    "    for time=1:T\n",
    "        for j=1:J\n",
    "            expected_people = 0\n",
    "            for i=1:n\n",
    "                if (s[i] <= time) && (e[i] > time) && (t[i] == j)\n",
    "                    expected_people += z[i]*(1-y_hat[i])*1\n",
    "                end\n",
    "            end   \n",
    "            @constraint(model, m[time,j] <= 0)\n",
    "            @constraint(model, m[time,j] <= Q[j] - expected_people)\n",
    "            #objective_term = min(Q[t[i]] - expected_people,0)*(q/n)\n",
    "            if length(p[s.==time]) >= 1\n",
    "                day_avg =  mean(p[s.==time])\n",
    "            else\n",
    "                day_avg = 0\n",
    "            end\n",
    "            objective += m[time,j]*(q+day_avg+f) #(q/n)\n",
    "        end\n",
    "    end\n",
    "    \n",
    "    objective += sum((1/K)*z[i]*(y_neighbors[i,k]*f + (1-y_neighbors[i,k])*p[i]) for k=1:K for i=1:n)\n",
    "    \n",
    "    @objective(model,Max, objective)\n",
    "    optimize!(model)\n",
    "    return objective_value(model) , value.(z), value.(m)\n",
    "end"
   ]
  },
  {
   "cell_type": "code",
   "execution_count": 101,
   "id": "ab2d5969",
   "metadata": {},
   "outputs": [
    {
     "data": {
      "text/plain": [
       "NaN"
      ]
     },
     "execution_count": 101,
     "metadata": {},
     "output_type": "execute_result"
    }
   ],
   "source": [
    "mean(p[s.==22])"
   ]
  },
  {
   "cell_type": "code",
   "execution_count": 12,
   "id": "796fb38f",
   "metadata": {},
   "outputs": [
    {
     "data": {
      "text/plain": [
       "prescribe_bookings_knn (generic function with 2 methods)"
      ]
     },
     "execution_count": 12,
     "metadata": {},
     "output_type": "execute_result"
    }
   ],
   "source": [
    "function prescribe_bookings_knn(Q,q,f,p,s,e,t,y_neighbors,y_hat)\n",
    "    \"\"\"\n",
    "    A function that receives n booking requests over a time period 1,...,T and returns\n",
    "    a decision on each booking (accept or reject) so as to maximize revenue.\n",
    "    \n",
    "    @param Q: vector length J. J is the number of room types we have (1 person, 2 person, etc.) Q_j is \n",
    "    the number of rooms available we have of type j \n",
    "    @param q: constant. this is the cost incurred if a customer is overbooked \n",
    "    @param f: constant. Money received if a booking is canceled \n",
    "    @param p: vector length n. The price of each booking \n",
    "    @param s: vector length n. The starting day of each booking\n",
    "    @param e: vector length n. The ending day of each booking\n",
    "    @param t: vector length n. This gives the number of people that the ith booking is for\n",
    "    @param y_neighbors: binary matrix n X K. This is the historical neighbour data,\n",
    "                        whether the person canceled or not\n",
    "    @param M: big M constraints\n",
    "    @param y_hat: estimate of cancelation probabilities \n",
    "    \"\"\"\n",
    "    J = length(Q)\n",
    "    n,K = size(y_neighbors)\n",
    "    \n",
    "    gurobi_env=Gurobi.Env(); #to suppress some Gurobi outputs\n",
    "    model = Model(with_optimizer(Gurobi.Optimizer, gurobi_env))\n",
    "    #set_optimizer_attribute(model, \"OutputFlag\", 0)\n",
    "    #set_optimizer_attribute(model, \"MIPGap\", 0.1) #needed to ensure convergence\n",
    "\n",
    "    \n",
    "    @variable(model,z[i=1:n],Bin) #accept booking i or not\n",
    "    #@variable(model,b[i=1:n],Bin) #person i is overbooked or not\n",
    "    #@variable(model,exp[i=1:n,j=1:J]>=0,Int) #number rooms occupied of type j when person i arrives\n",
    "    \n",
    "    #@constraint(model,[i=1:n,j=1:J],M*b[i]>=w[i,j]-Q[j]+1)\n",
    "\n",
    "    #STRATEGY: Say that the expected number of guests cannot exceed capacity\n",
    "    for i=1:n\n",
    "        expected_people = 0 \n",
    "        for i2=1:n\n",
    "            if (s[i2] <= s[i]) && (e[i2] > s[i]) && (i2 !== i) && (t[i2] == t[i])\n",
    "                expected_people += z[i2]*(1-y_hat[i2])*1\n",
    "            end\n",
    "        end            \n",
    "        @constraint(model,expected_people <= Q[t[i]])\n",
    "    end\n",
    "    \n",
    "    @objective(model,Max, sum(z[i]*(y_neighbors[i,k]*f + (1-y_neighbors[i,k])*p[i]) for k=1:K for i=1:n))\n",
    "    optimize!(model)\n",
    "    return objective_value(model) , value.(z)\n",
    "end"
   ]
  },
  {
   "cell_type": "code",
   "execution_count": 128,
   "id": "93fd5e29",
   "metadata": {},
   "outputs": [],
   "source": [
    "if length(s[s.==19]) == 0\n",
    "    print(\"ewoier\")\n",
    "end"
   ]
  },
  {
   "cell_type": "code",
   "execution_count": 125,
   "id": "ed77fc44",
   "metadata": {},
   "outputs": [
    {
     "data": {
      "text/plain": [
       "0"
      ]
     },
     "execution_count": 125,
     "metadata": {},
     "output_type": "execute_result"
    }
   ],
   "source": [
    "length(s[s.==11])"
   ]
  },
  {
   "cell_type": "code",
   "execution_count": 134,
   "id": "e2b7772c",
   "metadata": {},
   "outputs": [
    {
     "name": "stdout",
     "output_type": "stream",
     "text": [
      "Academic license - for non-commercial use only - expires 2022-08-18\n",
      "Gurobi Optimizer version 9.1.2 build v9.1.2rc0 (mac64)\n",
      "Thread count: 2 physical cores, 4 logical processors, using up to 4 threads\n",
      "Optimize a model with 220 rows, 3040 columns and 7585 nonzeros\n",
      "Model fingerprint: 0x25a46990\n",
      "Variable types: 110 continuous, 2930 integer (2930 binary)\n",
      "Coefficient statistics:\n",
      "  Matrix range     [2e-01, 1e+00]\n",
      "  Objective range  [2e+01, 4e+03]\n",
      "  Bounds range     [0e+00, 0e+00]\n",
      "  RHS range        [8e+01, 8e+01]\n",
      "Found heuristic solution: objective 752778.89000\n",
      "Presolve removed 202 rows and 1879 columns\n",
      "Presolve time: 0.01s\n",
      "Presolved: 18 rows, 1161 columns, 3789 nonzeros\n",
      "Found heuristic solution: objective 780265.98315\n",
      "Variable types: 1 continuous, 1160 integer (987 binary)\n",
      "\n",
      "Root relaxation: objective 8.555264e+05, 67 iterations, 0.00 seconds\n",
      "\n",
      "    Nodes    |    Current Node    |     Objective Bounds      |     Work\n",
      " Expl Unexpl |  Obj  Depth IntInf | Incumbent    BestBd   Gap | It/Node Time\n",
      "\n",
      "     0     0 855526.423    0    8 780265.983 855526.423  9.65%     -    0s\n",
      "H    0     0                    854583.92200 855526.423  0.11%     -    0s\n",
      "H    0     0                    855086.06000 855526.423  0.05%     -    0s\n",
      "H    0     0                    855369.18000 855526.423  0.02%     -    0s\n",
      "H    0     0                    855492.73600 855526.423  0.00%     -    0s\n",
      "\n",
      "Explored 1 nodes (67 simplex iterations) in 0.05 seconds\n",
      "Thread count was 4 (of 4 available processors)\n",
      "\n",
      "Solution count 6: 855493 855369 855086 ... 752779\n",
      "\n",
      "Optimal solution found (tolerance 1.00e-04)\n",
      "Best objective 8.554927360000e+05, best bound 8.555264226667e+05, gap 0.0039%\n",
      "\n",
      "User-callback calls 74, time in user-callback 0.00 sec\n"
     ]
    }
   ],
   "source": [
    "obj_knn, z_knn, m_knn = prescribe_bookings_knn_new(Q,q,f,p,s,e,t,y_neighbors,y_hat);"
   ]
  },
  {
   "cell_type": "markdown",
   "id": "bb242f35",
   "metadata": {},
   "source": [
    "# OCT-based prescriptions"
   ]
  },
  {
   "cell_type": "code",
   "execution_count": 479,
   "id": "5d161bd8",
   "metadata": {},
   "outputs": [],
   "source": [
    "final_tree = IAI.read_json(\"final_tree\");\n",
    "#final_grid = IAI.read_json(\"final_grid\");"
   ]
  },
  {
   "cell_type": "code",
   "execution_count": 480,
   "id": "61c27783",
   "metadata": {},
   "outputs": [
    {
     "data": {
      "text/plain": [
       "prescribe_bookings_oct (generic function with 1 method)"
      ]
     },
     "execution_count": 480,
     "metadata": {},
     "output_type": "execute_result"
    }
   ],
   "source": [
    "function prescribe_bookings_oct(Q,q,f,p,s,e,t,y_neighbors,M)\n",
    "    \"\"\"\n",
    "    A function that receives n booking requests over a time period 1,...,T and returns\n",
    "    a decision on each booking (accept or reject) so as to maximize revenue.\n",
    "    \n",
    "    @param Q: vector length J. J is the number of room types we have (1 person, 2 person, etc.) Q_j is \n",
    "    the number of rooms available we have of type j \n",
    "    @param q: constant. this is the cost incurred if a customer is overbooked \n",
    "    @param f: constant. Money received if a booking is canceled \n",
    "    @param p: vector length n. The price of each booking \n",
    "    @param s: vector length n. The starting day of each booking\n",
    "    @param e: vector length n. The ending day of each booking\n",
    "    @param t: vector length n. This gives the number of people that the ith booking is for\n",
    "    @param y_neighbors: binary matrix n X K. This is the historical neighbour data,\n",
    "                        whether the person canceled or not\n",
    "    @param M: big M constraints\n",
    "    \"\"\"\n",
    "    J = length(Q)\n",
    "    n,K = size(y_neighbors)\n",
    "    \n",
    "    gurobi_env=Gurobi.Env(); #to suppress some Gurobi outputs\n",
    "    model = Model(with_optimizer(Gurobi.Optimizer, gurobi_env))\n",
    "    set_optimizer_attribute(model, \"OutputFlag\", 0)\n",
    "    \n",
    "    @variable(model,z[i=1:n],Bin) #accept booking i or not\n",
    "    @variable(model,b[i=1:n],Bin) #person i is overbooked or not\n",
    "    @variable(model,w[i=1:n,j=1:J]>=0) #number rooms occupied of type j when person i arrives\n",
    "    \n",
    "    @constraint(model,[i=1:n], z[i] <= 1-b[i])\n",
    "    @constraint(model,[i=1:n,j=1:J],M*b[i]>=w[i,j]-Q[j]+1)\n",
    "\n",
    "    @constraint(model,[i=1:n,j=1:J],w[i,j] ==  sum([z[l]*sum((1-y_neighbors[l,k]) for k=1:K) for l=1:n \n",
    "                                                    if ((s[l] <= s[i]) && (e[l] > s[i]) && (l!=i))]   )) \n",
    "\n",
    "    @objective(model,Max, sum(z[i]*(y_neighbors[i,k]*f + (1-y_neighbors[i,k])*p[i]) for k=1:K for i=1:n) -\n",
    "                         q*sum(b[i] for i=1:n))\n",
    "    optimize!(model)\n",
    "    return objective_value(model) , value.(z)\n",
    "end"
   ]
  },
  {
   "cell_type": "markdown",
   "id": "85c4d2f0",
   "metadata": {},
   "source": [
    "# Evaluate Choice"
   ]
  },
  {
   "cell_type": "code",
   "execution_count": 14,
   "id": "4294db57",
   "metadata": {},
   "outputs": [
    {
     "data": {
      "text/plain": [
       "eval_choice (generic function with 1 method)"
      ]
     },
     "execution_count": 14,
     "metadata": {},
     "output_type": "execute_result"
    }
   ],
   "source": [
    "function eval_choice(z,y,Q,q,f,p,s,e,t)\n",
    "    \"\"\"\n",
    "    s/z has to be sorted by arrival data\n",
    "    \"\"\"\n",
    "    J = length(Q)\n",
    "    n,K = size(y_neighbors)\n",
    "    total_profit = 0 \n",
    "    num_overbooked = 0\n",
    "    num_canceled = 0\n",
    "    bookings_sold = 0\n",
    "    for i=1:n\n",
    "        if z[i] == 1\n",
    "            if y[i] == 1\n",
    "                total_profit += f\n",
    "                num_canceled += 1\n",
    "            else\n",
    "                num_visitors = 0 \n",
    "                for i2=1:(i-1)\n",
    "                    if (e[i2] > s[i]) && (t[i]==t[i2]) \n",
    "                        num_visitors += z[i2]*(1-y[i2])\n",
    "                    end\n",
    "                end\n",
    "                #println(\"num visitors: \",num_visitors)\n",
    "                if num_visitors < Q[t[i]]\n",
    "                    total_profit += p[i]\n",
    "                    bookings_sold += 1\n",
    "                else\n",
    "                    num_overbooked += 1\n",
    "                    total_profit -= q\n",
    "                end\n",
    "            end\n",
    "        end\n",
    "    end\n",
    "    \n",
    "    return total_profit,num_overbooked, num_canceled, bookings_sold\n",
    "end"
   ]
  },
  {
   "cell_type": "code",
   "execution_count": 75,
   "id": "b1f5c035",
   "metadata": {},
   "outputs": [
    {
     "data": {
      "text/plain": [
       "(580868.6899999995, 0, 500, 863)"
      ]
     },
     "execution_count": 75,
     "metadata": {},
     "output_type": "execute_result"
    }
   ],
   "source": [
    "total_profit_baseline,num_overbooked_baseline, num_canceled_baseline, bookings_sold_baseline = eval_choice(z_baseline,y_new,Q,q,f,p,s,e,t)"
   ]
  },
  {
   "cell_type": "code",
   "execution_count": 136,
   "id": "e5126e12",
   "metadata": {},
   "outputs": [
    {
     "data": {
      "text/plain": [
       "(286870.78000000014, 452, 988, 871)"
      ]
     },
     "execution_count": 136,
     "metadata": {},
     "output_type": "execute_result"
    }
   ],
   "source": [
    "total_profit_knn,num_overbooked_knn, num_canceled_knn, bookings_sold_knn = eval_choice(z_knn,y_new,Q,q,f,p,s,e,t)"
   ]
  },
  {
   "cell_type": "code",
   "execution_count": null,
   "id": "40df542c",
   "metadata": {},
   "outputs": [],
   "source": []
  }
 ],
 "metadata": {
  "kernelspec": {
   "display_name": "Julia 1.6.2",
   "language": "julia",
   "name": "julia-1.6"
  },
  "language_info": {
   "file_extension": ".jl",
   "mimetype": "application/julia",
   "name": "julia",
   "version": "1.6.2"
  }
 },
 "nbformat": 4,
 "nbformat_minor": 5
}
