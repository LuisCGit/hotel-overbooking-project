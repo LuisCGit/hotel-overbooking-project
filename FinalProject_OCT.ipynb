{
 "cells": [
  {
   "cell_type": "code",
   "execution_count": 1,
   "metadata": {},
   "outputs": [],
   "source": [
    "using StatsBase, Random, LinearAlgebra, Plots, DecisionTree, DataFrames, MLDataUtils, ScikitLearn, CSV"
   ]
  },
  {
   "cell_type": "code",
   "execution_count": 49,
   "metadata": {},
   "outputs": [
    {
     "data": {
      "text/html": [
       "<table class=\"data-frame\"><thead><tr><th></th><th>Column1</th><th>hotel</th><th>is_canceled</th><th>lead_time</th><th>arrival_date_year</th><th>arrival_date_month</th></tr><tr><th></th><th>Int64</th><th>String</th><th>Int64</th><th>Int64</th><th>Int64</th><th>String</th></tr></thead><tbody><p>10 rows × 34 columns (omitted printing of 28 columns)</p><tr><th>1</th><td>0</td><td>Resort Hotel</td><td>0</td><td>342</td><td>2015</td><td>July</td></tr><tr><th>2</th><td>1</td><td>Resort Hotel</td><td>0</td><td>737</td><td>2015</td><td>July</td></tr><tr><th>3</th><td>2</td><td>Resort Hotel</td><td>0</td><td>7</td><td>2015</td><td>July</td></tr><tr><th>4</th><td>3</td><td>Resort Hotel</td><td>0</td><td>13</td><td>2015</td><td>July</td></tr><tr><th>5</th><td>4</td><td>Resort Hotel</td><td>0</td><td>14</td><td>2015</td><td>July</td></tr><tr><th>6</th><td>6</td><td>Resort Hotel</td><td>0</td><td>0</td><td>2015</td><td>July</td></tr><tr><th>7</th><td>7</td><td>Resort Hotel</td><td>0</td><td>9</td><td>2015</td><td>July</td></tr><tr><th>8</th><td>8</td><td>Resort Hotel</td><td>1</td><td>85</td><td>2015</td><td>July</td></tr><tr><th>9</th><td>9</td><td>Resort Hotel</td><td>1</td><td>75</td><td>2015</td><td>July</td></tr><tr><th>10</th><td>10</td><td>Resort Hotel</td><td>1</td><td>23</td><td>2015</td><td>July</td></tr></tbody></table>"
      ],
      "text/latex": [
       "\\begin{tabular}{r|ccccccc}\n",
       "\t& Column1 & hotel & is\\_canceled & lead\\_time & arrival\\_date\\_year & arrival\\_date\\_month & \\\\\n",
       "\t\\hline\n",
       "\t& Int64 & String & Int64 & Int64 & Int64 & String & \\\\\n",
       "\t\\hline\n",
       "\t1 & 0 & Resort Hotel & 0 & 342 & 2015 & July & $\\dots$ \\\\\n",
       "\t2 & 1 & Resort Hotel & 0 & 737 & 2015 & July & $\\dots$ \\\\\n",
       "\t3 & 2 & Resort Hotel & 0 & 7 & 2015 & July & $\\dots$ \\\\\n",
       "\t4 & 3 & Resort Hotel & 0 & 13 & 2015 & July & $\\dots$ \\\\\n",
       "\t5 & 4 & Resort Hotel & 0 & 14 & 2015 & July & $\\dots$ \\\\\n",
       "\t6 & 6 & Resort Hotel & 0 & 0 & 2015 & July & $\\dots$ \\\\\n",
       "\t7 & 7 & Resort Hotel & 0 & 9 & 2015 & July & $\\dots$ \\\\\n",
       "\t8 & 8 & Resort Hotel & 1 & 85 & 2015 & July & $\\dots$ \\\\\n",
       "\t9 & 9 & Resort Hotel & 1 & 75 & 2015 & July & $\\dots$ \\\\\n",
       "\t10 & 10 & Resort Hotel & 1 & 23 & 2015 & July & $\\dots$ \\\\\n",
       "\\end{tabular}\n"
      ],
      "text/plain": [
       "\u001b[1m10×34 DataFrame\u001b[0m\n",
       "\u001b[1m Row \u001b[0m│\u001b[1m Column1 \u001b[0m\u001b[1m hotel        \u001b[0m\u001b[1m is_canceled \u001b[0m\u001b[1m lead_time \u001b[0m\u001b[1m arrival_date_year \u001b[0m\u001b[1m arriv\u001b[0m ⋯\n",
       "\u001b[1m     \u001b[0m│\u001b[90m Int64   \u001b[0m\u001b[90m String       \u001b[0m\u001b[90m Int64       \u001b[0m\u001b[90m Int64     \u001b[0m\u001b[90m Int64             \u001b[0m\u001b[90m Strin\u001b[0m ⋯\n",
       "─────┼──────────────────────────────────────────────────────────────────────────\n",
       "   1 │       0  Resort Hotel            0        342               2015  July  ⋯\n",
       "   2 │       1  Resort Hotel            0        737               2015  July\n",
       "   3 │       2  Resort Hotel            0          7               2015  July\n",
       "   4 │       3  Resort Hotel            0         13               2015  July\n",
       "   5 │       4  Resort Hotel            0         14               2015  July  ⋯\n",
       "   6 │       6  Resort Hotel            0          0               2015  July\n",
       "   7 │       7  Resort Hotel            0          9               2015  July\n",
       "   8 │       8  Resort Hotel            1         85               2015  July\n",
       "   9 │       9  Resort Hotel            1         75               2015  July  ⋯\n",
       "  10 │      10  Resort Hotel            1         23               2015  July\n",
       "\u001b[36m                                                              29 columns omitted\u001b[0m"
      ]
     },
     "execution_count": 49,
     "metadata": {},
     "output_type": "execute_result"
    }
   ],
   "source": [
    "data = CSV.read(\"raw_data.csv\", DataFrame, header = true, pool = true);\n",
    "first(data,10)"
   ]
  },
  {
   "cell_type": "code",
   "execution_count": 56,
   "metadata": {},
   "outputs": [],
   "source": [
    "short_data = data[data[:,\"arrival_date_year\"].==2017,:];"
   ]
  },
  {
   "cell_type": "code",
   "execution_count": 15,
   "metadata": {},
   "outputs": [
    {
     "data": {
      "text/plain": [
       "34-element Vector{String}:\n",
       " \"Column1\"\n",
       " \"hotel\"\n",
       " \"is_canceled\"\n",
       " \"lead_time\"\n",
       " \"arrival_date_year\"\n",
       " \"arrival_date_month\"\n",
       " \"arrival_date_week_number\"\n",
       " \"arrival_date_day_of_month\"\n",
       " \"stays_in_weekend_nights\"\n",
       " \"stays_in_week_nights\"\n",
       " \"adults\"\n",
       " \"children\"\n",
       " \"babies\"\n",
       " ⋮\n",
       " \"booking_changes\"\n",
       " \"deposit_type\"\n",
       " \"agent\"\n",
       " \"company\"\n",
       " \"days_in_waiting_list\"\n",
       " \"customer_type\"\n",
       " \"adr\"\n",
       " \"required_car_parking_spaces\"\n",
       " \"total_of_special_requests\"\n",
       " \"reservation_status\"\n",
       " \"reservation_status_date\"\n",
       " \"occupants\""
      ]
     },
     "execution_count": 15,
     "metadata": {},
     "output_type": "execute_result"
    }
   ],
   "source": [
    "names(data)"
   ]
  },
  {
   "cell_type": "code",
   "execution_count": 61,
   "metadata": {},
   "outputs": [],
   "source": [
    "# Train test split by stratifying on the classifcation label y\n",
    "data = short_data[:, Not([5,6,7,8,33,25,26,32])]\n",
    "data = data[completecases(data), :]\n",
    "\n",
    "# 15 is country, consider removing\n",
    "\n",
    "X = data[:, Not([1,3])]\n",
    "y = data[:, 3]\n",
    "(x_train, y_train), (x_test, y_test) = IAI.split_data(:classification, X, y,\n",
    "                                                      seed=1);"
   ]
  },
  {
   "cell_type": "code",
   "execution_count": 62,
   "metadata": {},
   "outputs": [
    {
     "data": {
      "text/plain": [
       "(31615, 24)"
      ]
     },
     "execution_count": 62,
     "metadata": {},
     "output_type": "execute_result"
    }
   ],
   "source": [
    "size(X)"
   ]
  },
  {
   "cell_type": "code",
   "execution_count": 63,
   "metadata": {},
   "outputs": [
    {
     "name": "stderr",
     "output_type": "stream",
     "text": [
      "┌ Warning: ProgressMeter by default refresh meters with additional information in IJulia via `IJulia.clear_output`, which clears all outputs in the cell. \n",
      "│  - To prevent this behaviour, do `ProgressMeter.ijulia_behavior(:append)`. \n",
      "│  - To disable this warning message, do `ProgressMeter.ijulia_behavior(:clear)`.\n",
      "└ @ ProgressMeter /Users/iai/builds/InterpretableAI/SystemImage/SysImgBuilder/.julia/packages/ProgressMeter/Vf8un/src/ProgressMeter.jl:620\n",
      "\r",
      "\u001b[32mRefitting with best parameters...  100%|████████████████| Time: 0:43:51\u001b[39m\r\n",
      "\u001b[34m  Parameters:  cp=>0.0005629\u001b[39m\r",
      "\u001b[A"
     ]
    },
    {
     "name": "stdout",
     "output_type": "stream",
     "text": [
      "AUC[0.6032323916153557, 0.6941300172171008, 0.7598095878177411, 0.7792082862433463, 0.798293988282233, 0.8136847999143132, 0.8216250455569436, 0.821534647090314]\n",
      "Accuracy[0.6802319451765946, 0.6956246705324196, 0.7297838692672641, 0.7420137058513442, 0.7382182393252504, 0.7525566684238271, 0.7576172904586189, 0.7601476014760148]\n",
      "CP[0.028186646415080785, 0.02342550214935814, 0.0013836895941774507, 0.0008941407529809431, 0.00030685568410904196, 0.0006626565908297206, 0.0003887553318733944, 0.0005628666107160007]\n"
     ]
    },
    {
     "name": "stderr",
     "output_type": "stream",
     "text": [
      "\n",
      "\n",
      "\n"
     ]
    }
   ],
   "source": [
    "# Q2.b Gini tree with Grid Search over different max depths\n",
    "max_depth = 8\n",
    "depths = [1:max_depth;]\n",
    "\n",
    "\n",
    "auc_vec = zeros(length(depths))\n",
    "acc_vec = zeros(length(depths))\n",
    "cp_vec = zeros(length(depths))\n",
    "\n",
    "for i in 1:max_depth\n",
    "    \n",
    "    tree_gini = IAI.OptimalTreeClassifier(\n",
    "        random_seed=1,\n",
    "        criterion = :gini,\n",
    "        max_depth = depths[i],\n",
    "        minbucket = 5,\n",
    "        max_categoric_levels_before_warning=100,)\n",
    "    \n",
    "    grid_ginib = IAI.GridSearch(tree_gini)\n",
    "    \n",
    "    IAI.fit_cv!(grid_ginib, x_train, y_train, n_folds = 5, validation_criterion = :auc)\n",
    "    \n",
    "    tree_gini = IAI.get_learner(grid_ginib)\n",
    "    \n",
    "    tree_gini_params = IAI.get_params(tree_gini)\n",
    "    \n",
    "    \n",
    "    auc = IAI.score(grid_ginib,x_test, y_test, criterion=:auc)\n",
    "    acc = IAI.score(grid_ginib,x_test, y_test, criterion=:accuracy,positive_label =1)\n",
    "    \n",
    "    cp = tree_gini_params[:cp]\n",
    "    cp = tree_gini.cp\n",
    "    \n",
    "    auc_vec[i] = auc\n",
    "    acc_vec[i] = acc\n",
    "    cp_vec[i] = cp\n",
    "end\n",
    "\n",
    "println(\"AUC\",auc_vec)\n",
    "println(\"Accuracy\", acc_vec)\n",
    "println(\"CP\", cp_vec)  \n"
   ]
  },
  {
   "cell_type": "code",
   "execution_count": null,
   "metadata": {},
   "outputs": [],
   "source": []
  },
  {
   "cell_type": "code",
   "execution_count": null,
   "metadata": {},
   "outputs": [
    {
     "name": "stderr",
     "output_type": "stream",
     "text": [
      "\u001b[32mCV fold...                           0%|                |  ETA: N/A\u001b[39m┌ Warning: The following categoric features have more than 100 levels:\n",
      "│ - country\n",
      "│ \n",
      "│ We recommend extreme caution when using categoric features with many levels inside Optimal Trees, for more information and advice on how to handle such features, please refer to this link:\n",
      "│ \n",
      "│ https://docs.interpretable.ai/dev/OptimalTrees/tips/#Categorical-Variables-with-Many-Levels\n",
      "│ \n",
      "│ You can suppress this warning by increasing the value of the parameter `max_categoric_levels_before_warning` on the Optimal Tree learner.\n",
      "└ @ nothing nothing:nothing\n",
      "\u001b[32mCV fold...                          20%|███▎            |  ETA: 0:07:55\u001b[39m┌ Warning: The following categoric features have more than 100 levels:\n",
      "│ - country\n",
      "│ \n",
      "│ We recommend extreme caution when using categoric features with many levels inside Optimal Trees, for more information and advice on how to handle such features, please refer to this link:\n",
      "│ \n",
      "│ https://docs.interpretable.ai/dev/OptimalTrees/tips/#Categorical-Variables-with-Many-Levels\n",
      "│ \n",
      "│ You can suppress this warning by increasing the value of the parameter `max_categoric_levels_before_warning` on the Optimal Tree learner.\n",
      "└ @ nothing nothing:nothing\n",
      "\u001b[32mTraining trees...                   56%|█████████       |  ETA: 0:00:49\u001b[39m"
     ]
    }
   ],
   "source": [
    "## Train on Best Params\n",
    "\n",
    "final_tree = IAI.OptimalTreeClassifier(\n",
    "    random_seed=1,\n",
    "    localsearch = true,\n",
    "    max_categoric_levels_before_warning=100,)\n",
    "\n",
    "final_grid = IAI.GridSearch(final_tree, \n",
    "    criterion = :gini,\n",
    "    max_depth = 7,\n",
    "    minbucket = 5,\n",
    "    cp = 0.0003887553318733944)\n",
    "\n",
    "IAI.fit_cv!(final_grid, x_train, y_train, n_folds = 5, validation_criterion = :auc)\n",
    "\n",
    "final_tree = IAI.get_learner(final_grid)\n",
    "\n",
    "final_tree_params = IAI.get_params(final_tree)\n",
    "\n",
    "\n",
    "auc_final = IAI.score(final_grid,x_test, y_test, criterion=:auc)\n",
    "acc_final = IAI.score(final_grid,x_test, y_test, criterion=:accuracy,positive_label =1)"
   ]
  },
  {
   "cell_type": "code",
   "execution_count": 68,
   "metadata": {},
   "outputs": [],
   "source": [
    "using JLD\n",
    "\n",
    "save(\"OCT_best_params.jld\", \"auc_vec\", auc_vec, \"cp_vec\", cp_vec)"
   ]
  },
  {
   "cell_type": "code",
   "execution_count": 69,
   "metadata": {},
   "outputs": [
    {
     "data": {
      "text/plain": [
       "8-element Vector{Float64}:\n",
       " 0.6032323916153557\n",
       " 0.6941300172171008\n",
       " 0.7598095878177411\n",
       " 0.7792082862433463\n",
       " 0.798293988282233\n",
       " 0.8136847999143132\n",
       " 0.8216250455569436\n",
       " 0.821534647090314"
      ]
     },
     "execution_count": 69,
     "metadata": {},
     "output_type": "execute_result"
    }
   ],
   "source": [
    "load_auc = load(\"OCT_best_params.jld\", \"auc_vec\")"
   ]
  },
  {
   "cell_type": "code",
   "execution_count": null,
   "metadata": {},
   "outputs": [],
   "source": []
  },
  {
   "cell_type": "code",
   "execution_count": 67,
   "metadata": {},
   "outputs": [
    {
     "ename": "LoadError",
     "evalue": "UndefVarError: grid_ginib not defined",
     "output_type": "error",
     "traceback": [
      "UndefVarError: grid_ginib not defined",
      "",
      "Stacktrace:",
      " [1] top-level scope",
      "   @ In[67]:1",
      " [2] eval",
      "   @ ./boot.jl:360 [inlined]",
      " [3] include_string(mapexpr::typeof(REPL.softscope), mod::Module, code::String, filename::String)",
      "   @ Base ./loading.jl:1116"
     ]
    }
   ],
   "source": [
    "tree_gini = IAI.get_learner(grid_ginib)"
   ]
  },
  {
   "cell_type": "code",
   "execution_count": null,
   "metadata": {},
   "outputs": [],
   "source": []
  },
  {
   "cell_type": "code",
   "execution_count": 64,
   "metadata": {},
   "outputs": [
    {
     "data": {
      "image/png": "[encoded data removed]"
     },
     "execution_count": 64,
     "metadata": {},
     "output_type": "execute_result"
    }
   ],
   "source": [
    "# AUC vs Depth\n",
    "using Plots\n",
    "pyplot()\n",
    "\n",
    "plot(depths,auc_vec,\n",
    "title = \"AUC vs. Depth\",\n",
    "xlabel = \"Tree Depth\",\n",
    "ylabel = \"AUC\")\n",
    "\n"
   ]
  },
  {
   "cell_type": "code",
   "execution_count": null,
   "metadata": {},
   "outputs": [],
   "source": [
    "### XGBoost ###\n",
    "XG_boost = IAI.XGBoostClassifier(\n",
    "    random_seed=1,\n",
    "    max_categoric_levels_before_warning=100,)\n",
    "\n",
    "grid_boost = IAI.GridSearch(XG_boost, \n",
    "    criterion = :entropy,\n",
    "    num_round = [20,50,100,150],\n",
    "    max_depth = 1:3)\n",
    "\n",
    "IAI.fit_cv!(grid_boost, x_train, y_train, n_folds = 5, validation_criterion = :auc)\n",
    "\n",
    "XG_boost = IAI.get_learner(grid_boost)\n",
    "\n",
    "tree_boost_params = IAI.get_params(XG_boost)\n",
    "\n",
    "\n",
    "auc_boost = IAI.score(grid_boost,x_test, y_test, criterion=:auc)\n",
    "acc_boost = IAI.score(grid_boost,x_test, y_test, criterion=:accuracy,positive_label =1)\n",
    "importance_boost = IAI.variable_importance(IAI.get_learner(grid_boost))"
   ]
  }
 ],
 "metadata": {
  "kernelspec": {
   "display_name": "Julia 1.6.2",
   "language": "julia",
   "name": "julia-1.6"
  },
  "language_info": {
   "file_extension": ".jl",
   "mimetype": "application/julia",
   "name": "julia",
   "version": "1.6.2"
  }
 },
 "nbformat": 4,
 "nbformat_minor": 4
}
